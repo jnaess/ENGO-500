{
 "cells": [
  {
   "cell_type": "code",
   "execution_count": 6,
   "id": "1c37c1c7-a245-43ac-9480-fbf5e7aff1ca",
   "metadata": {
    "tags": []
   },
   "outputs": [
    {
     "name": "stderr",
     "output_type": "stream",
     "text": [
      "C:\\Users\\Jan Erik Naess\\Anaconda3\\envs\\capstone\\lib\\site-packages\\geopandas\\geoseries.py:207: FutureWarning: The default dtype for empty Series will be 'object' instead of 'float64' in a future version. Specify a dtype explicitly to silence this warning.\n",
      "  s = pd.Series(data, index=index, name=name, **kwargs)\n",
      "C:\\Users\\Jan Erik Naess\\Anaconda3\\envs\\capstone\\lib\\site-packages\\geopandas\\geoseries.py:207: FutureWarning: The default dtype for empty Series will be 'object' instead of 'float64' in a future version. Specify a dtype explicitly to silence this warning.\n",
      "  s = pd.Series(data, index=index, name=name, **kwargs)\n",
      "C:\\Users\\Jan Erik Naess\\Winter2022\\Software_Build\\ENGO-500\\shapeInitializer.py:76: UserWarning: `keep_geom_type=True` in overlay resulted in 8 dropped geometries of different geometry types than df1 has. Set `keep_geom_type=False` to retain all geometries\n",
      "  self.single_pass = gpd.overlay(self.R_gdf_poly, self.T_gdf_poly, how=\"intersection\") #any overlap of true and real path\n"
     ]
    },
    {
     "data": {
      "text/plain": [
       "[[1.5, 2.25], [1.5, 3.75], [1.5, 5.25], [1.5, 6.75], [1.5, 8.25], [1.5, 9.25]]"
      ]
     },
     "execution_count": 6,
     "metadata": {},
     "output_type": "execute_result"
    }
   ],
   "source": [
    "from simulator import Simulator\n",
    "\n",
    "field = [[0,0],[0,10],[10,10],[10,0]]\n",
    "\n",
    "sim = Simulator(field)\n",
    "sim.generate_output_tracks()\n",
    "sim.output_tracks\n",
    "sim.lower.segments"
   ]
  },
  {
   "cell_type": "code",
   "execution_count": null,
   "id": "23c4b6bb-bf45-4e63-aa0c-19c7269ea638",
   "metadata": {},
   "outputs": [],
   "source": []
  }
 ],
 "metadata": {
  "kernelspec": {
   "display_name": "Python 3 (ipykernel)",
   "language": "python",
   "name": "python3"
  },
  "language_info": {
   "codemirror_mode": {
    "name": "ipython",
    "version": 3
   },
   "file_extension": ".py",
   "mimetype": "text/x-python",
   "name": "python",
   "nbconvert_exporter": "python",
   "pygments_lexer": "ipython3",
   "version": "3.8.12"
  }
 },
 "nbformat": 4,
 "nbformat_minor": 5
}
