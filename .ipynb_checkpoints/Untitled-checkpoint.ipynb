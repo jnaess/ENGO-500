{
 "cells": [
  {
   "cell_type": "code",
   "execution_count": 1,
   "id": "1c37c1c7-a245-43ac-9480-fbf5e7aff1ca",
   "metadata": {
    "tags": []
   },
   "outputs": [
    {
     "name": "stderr",
     "output_type": "stream",
     "text": [
      "C:\\Users\\Jan Erik Naess\\Anaconda3\\envs\\capstone\\lib\\site-packages\\geopandas\\geoseries.py:207: FutureWarning: The default dtype for empty Series will be 'object' instead of 'float64' in a future version. Specify a dtype explicitly to silence this warning.\n",
      "  s = pd.Series(data, index=index, name=name, **kwargs)\n",
      "C:\\Users\\Jan Erik Naess\\Anaconda3\\envs\\capstone\\lib\\site-packages\\geopandas\\geoseries.py:207: FutureWarning: The default dtype for empty Series will be 'object' instead of 'float64' in a future version. Specify a dtype explicitly to silence this warning.\n",
      "  s = pd.Series(data, index=index, name=name, **kwargs)\n"
     ]
    },
    {
     "data": {
      "text/plain": [
       "[[2.25, 1.5],\n",
       " [2.090200314548602, 2.9914637308797136],\n",
       " [1.9304006290972042, 4.482927461759427],\n",
       " [1.7706009436458063, 5.974391192639141],\n",
       " [1.6108012581944084, 7.4658549235188545],\n",
       " [1.5, 8.5]]"
      ]
     },
     "execution_count": 1,
     "metadata": {},
     "output_type": "execute_result"
    }
   ],
   "source": [
    "from simulator import Simulator\n",
    "\n",
    "field = [[0,0],[0,12],[10,12],[10,0]]\n",
    "\n",
    "sim = Simulator(field)\n",
    "sim.generate_output_tracks()\n",
    "sim.output_tracks\n",
    "sim.lower.segments"
   ]
  },
  {
   "cell_type": "code",
   "execution_count": 2,
   "id": "23c4b6bb-bf45-4e63-aa0c-19c7269ea638",
   "metadata": {},
   "outputs": [
    {
     "data": {
      "text/plain": [
       "[1.5, 8.5]"
      ]
     },
     "execution_count": 2,
     "metadata": {},
     "output_type": "execute_result"
    }
   ],
   "source": [
    "sim.d"
   ]
  },
  {
   "cell_type": "code",
   "execution_count": 3,
   "id": "87d05e17-c6e9-4bdf-a65d-0de855453915",
   "metadata": {},
   "outputs": [
    {
     "data": {
      "text/plain": [
       "[1.5, 1.5]"
      ]
     },
     "execution_count": 3,
     "metadata": {},
     "output_type": "execute_result"
    }
   ],
   "source": [
    "sim.a"
   ]
  },
  {
   "cell_type": "code",
   "execution_count": 4,
   "id": "d157cbbb-cc98-4b58-b96d-799d1a408ad9",
   "metadata": {},
   "outputs": [
    {
     "data": {
      "text/plain": [
       "[8.5, 1.5]"
      ]
     },
     "execution_count": 4,
     "metadata": {},
     "output_type": "execute_result"
    }
   ],
   "source": [
    "sim.b"
   ]
  },
  {
   "cell_type": "code",
   "execution_count": 5,
   "id": "88e74a87-2528-4944-a34e-2004a596e140",
   "metadata": {},
   "outputs": [
    {
     "data": {
      "text/plain": [
       "[8.5, 8.5]"
      ]
     },
     "execution_count": 5,
     "metadata": {},
     "output_type": "execute_result"
    }
   ],
   "source": [
    "sim.c"
   ]
  },
  {
   "cell_type": "code",
   "execution_count": 6,
   "id": "22fadb51-7997-45e7-968e-96b6ef761ba8",
   "metadata": {},
   "outputs": [
    {
     "data": {
      "text/plain": [
       "[2.25, 1.5]"
      ]
     },
     "execution_count": 6,
     "metadata": {},
     "output_type": "execute_result"
    }
   ],
   "source": [
    "sim.lower_start"
   ]
  },
  {
   "cell_type": "code",
   "execution_count": 7,
   "id": "6e2aa124-6b3d-4e23-8c6c-8b64ac4eae07",
   "metadata": {},
   "outputs": [
    {
     "data": {
      "text/plain": [
       "[9.25, 1.5]"
      ]
     },
     "execution_count": 7,
     "metadata": {},
     "output_type": "execute_result"
    }
   ],
   "source": [
    "sim.upper_start"
   ]
  },
  {
   "cell_type": "code",
   "execution_count": null,
   "id": "4ba9323d-515a-4f48-ad67-784949f9dd96",
   "metadata": {},
   "outputs": [],
   "source": []
  }
 ],
 "metadata": {
  "kernelspec": {
   "display_name": "Python 3 (ipykernel)",
   "language": "python",
   "name": "python3"
  },
  "language_info": {
   "codemirror_mode": {
    "name": "ipython",
    "version": 3
   },
   "file_extension": ".py",
   "mimetype": "text/x-python",
   "name": "python",
   "nbconvert_exporter": "python",
   "pygments_lexer": "ipython3",
   "version": "3.8.12"
  }
 },
 "nbformat": 4,
 "nbformat_minor": 5
}
