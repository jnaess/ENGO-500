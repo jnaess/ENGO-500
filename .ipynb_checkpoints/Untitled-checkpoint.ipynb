{
 "cells": [
  {
   "cell_type": "code",
   "execution_count": null,
   "id": "1c37c1c7-a245-43ac-9480-fbf5e7aff1ca",
   "metadata": {},
   "outputs": [],
   "source": [
    "from simulator import Simulator\n",
    "\n",
    "self.field = [[0,0],[0,10],[10,10],[10,0]]\n",
    "\n",
    "sim = Simulator()"
   ]
  }
 ],
 "metadata": {
  "kernelspec": {
   "display_name": "Python 3 (ipykernel)",
   "language": "python",
   "name": "python3"
  },
  "language_info": {
   "codemirror_mode": {
    "name": "ipython",
    "version": 3
   },
   "file_extension": ".py",
   "mimetype": "text/x-python",
   "name": "python",
   "nbconvert_exporter": "python",
   "pygments_lexer": "ipython3",
   "version": "3.8.12"
  }
 },
 "nbformat": 4,
 "nbformat_minor": 5
}
