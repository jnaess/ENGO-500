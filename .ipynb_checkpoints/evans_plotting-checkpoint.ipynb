{
 "cells": [
  {
   "cell_type": "code",
   "execution_count": null,
   "id": "cd85cde4-4c2e-41de-808d-446b912e10f0",
   "metadata": {},
   "outputs": [],
   "source": [
    "from manager import Manager\n",
    "\n",
    "manager = Manager()\n",
    "\n",
    "manager.plot_a()\n",
    "manager.plot_b()\n",
    "manager.plot_c()\n",
    "manager.plot_d()\n",
    "manager.plot_e()\n",
    "manager.plot_f()"
   ]
  }
 ],
 "metadata": {
  "kernelspec": {
   "display_name": "Python 3 (ipykernel)",
   "language": "python",
   "name": "python3"
  },
  "language_info": {
   "codemirror_mode": {
    "name": "ipython",
    "version": 3
   },
   "file_extension": ".py",
   "mimetype": "text/x-python",
   "name": "python",
   "nbconvert_exporter": "python",
   "pygments_lexer": "ipython3",
   "version": "3.8.12"
  }
 },
 "nbformat": 4,
 "nbformat_minor": 5
}
