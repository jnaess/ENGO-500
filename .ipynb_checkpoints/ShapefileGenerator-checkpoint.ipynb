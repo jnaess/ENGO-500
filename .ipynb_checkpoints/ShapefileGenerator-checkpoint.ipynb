{
 "cells": [
  {
   "cell_type": "code",
   "execution_count": 7,
   "metadata": {},
   "outputs": [
    {
     "name": "stdout",
     "output_type": "stream",
     "text": [
      "[-34.14213562373095, 134.14213562373095, 50.0] [-14.142135623730955, -14.142135623730955, 70.0]\n"
     ]
    },
    {
     "data": {
      "image/png": "[encoded data removed]",
      "text/plain": [
       "<Figure size 432x288 with 1 Axes>"
      ]
     },
     "metadata": {
      "needs_background": "light"
     },
     "output_type": "display_data"
    }
   ],
   "source": [
    "import numpy as np\n",
    "import matplotlib.pyplot as plt\n",
    "\n",
    "x = [187, 879]\n",
    "\n",
    "y = [341, 344]\n",
    "\n",
    "\n",
    "newX = []\n",
    "newY = []\n",
    "\n",
    "def findIntesection(p1x, p1y, p2x, p2y, p3x,p3y, p4x, p4y):\n",
    "    dx12 = p2x - p1x\n",
    "    dy12 = p2y - p1y\n",
    "    dx34 = p4x - p3x\n",
    "    dy34 = p4y - p3y\n",
    "\n",
    "    denominator = (dy12*dx34-dx12*dy34)\n",
    "\n",
    "    t1 = ((p1x - p3x) * dy34 + (p3y - p1y) * dx34)/ denominator\n",
    "\n",
    "    t2 = ((p3x - p1x) * dy12 + (p1y - p3y) * dx12)/ -denominator;\n",
    "    \n",
    "    intersectX = p1x + dx12 * t1\n",
    "    intersectY = p1y + dy12 * t1\n",
    "\n",
    "    if (t1 < 0): t1 = 0\n",
    "    elif (t1 > 1): t1 = 1\n",
    "    if (t2 < 0): t2 = 0\n",
    "    elif (t2 > 1): t2 = 1\n",
    "    \n",
    "    return intersectX,intersectY\n",
    "\n",
    "def normalizeVec(x,y):\n",
    "    distance = np.sqrt(x*x+y*y)\n",
    "    return x/distance, y/distance\n",
    "\n",
    "def getEnlarged(oldX, oldY, offset):\n",
    "    num_points = len(oldX)\n",
    "    \n",
    "    for j in range(num_points):\n",
    "        i = j - 1\n",
    "        if i < 0:\n",
    "            i += num_points\n",
    "        k = (j + 1) % num_points\n",
    "\n",
    "        vec1X =  oldX[j] - oldX[i]\n",
    "        vec1Y =  oldY[j] - oldY[i]\n",
    "        v1normX, v1normY = normalizeVec(vec1X,vec1Y)\n",
    "        v1normX *= offset\n",
    "        v1normY *= offset\n",
    "        n1X = -v1normY\n",
    "        n1Y = v1normX\n",
    "        pij1X = oldX[i] + n1X\n",
    "        pij1Y = oldY[i] + n1Y\n",
    "        pij2X = oldX[j] + n1X\n",
    "        pij2Y = oldY[j] + n1Y\n",
    "\n",
    "        vec2X =  oldX[k] - oldX[j]\n",
    "        vec2Y =  oldY[k] - oldY[j]\n",
    "        v2normX, v2normY = normalizeVec(vec2X,vec2Y)\n",
    "        v2normX *= offset\n",
    "        v2normY *= offset\n",
    "        n2X = -v2normY\n",
    "        n2Y = v2normX\n",
    "        pjk1X = oldX[j] + n2X\n",
    "        pjk1Y = oldY[j] + n2Y\n",
    "        pjk2X = oldX[k] + n2X\n",
    "        pjk2Y = oldY[k] + n2Y\n",
    "        \n",
    "        intersectX,intersetY = findIntesection(pij1X,pij1Y,pij2X,pij2Y,pjk1X,pjk1Y,pjk2X,pjk2Y)\n",
    "        \n",
    "        #print(intersectX,intersetY)\n",
    "        \n",
    "        newX.append(intersectX)\n",
    "        newY.append(intersetY)\n",
    "\n",
    "def makeOffsetPoly(oldX, oldY, offset, outer_ccw = 1):\n",
    "    num_points = len(oldX)\n",
    "\n",
    "    for curr in range(num_points):\n",
    "        prev = (curr + num_points - 1) % num_points\n",
    "        next = (curr + 1) % num_points\n",
    "\n",
    "        vnX =  oldX[next] - oldX[curr]\n",
    "        vnY =  oldY[next] - oldY[curr]\n",
    "        vnnX, vnnY = normalizeVec(vnX,vnY)\n",
    "        nnnX = vnnY\n",
    "        nnnY = -vnnX\n",
    "\n",
    "        vpX =  oldX[curr] - oldX[prev]\n",
    "        vpY =  oldY[curr] - oldY[prev]\n",
    "        vpnX, vpnY = normalizeVec(vpX,vpY)\n",
    "        npnX = vpnY * outer_ccw\n",
    "        npnY = -vpnX * outer_ccw\n",
    "\n",
    "        bisX = (nnnX + npnX) * outer_ccw\n",
    "        bisY = (nnnY + npnY) * outer_ccw\n",
    "\n",
    "        bisnX, bisnY = normalizeVec(bisX,  bisY)\n",
    "        bislen = offset /  np.sqrt(1 + nnnX*npnX + nnnY*npnY)\n",
    "\n",
    "        newX.append(oldX[curr] + bislen * bisnX)\n",
    "        newY.append(oldY[curr] + bislen * bisnY)\n",
    "\n",
    "x = [0, 100, 50]\n",
    "y = [0, 0, 50]\n",
    "makeOffsetPoly(x, y, 20)\n",
    "print(newX, newY)\n",
    "\n",
    "#getEnlarged(x, y, 20)\n",
    "\n",
    "plt.plot(x, y)\n",
    "plt.plot(newX, newY)\n",
    "plt.show()"
   ]
  },
  {
   "cell_type": "code",
   "execution_count": 13,
   "metadata": {},
   "outputs": [
    {
     "name": "stdout",
     "output_type": "stream",
     "text": [
      "[nan] [nan]\n"
     ]
    },
    {
     "name": "stderr",
     "output_type": "stream",
     "text": [
      "<ipython-input-13-c0cb29610d47>:3: RuntimeWarning: invalid value encountered in double_scalars\n",
      "  return x/distance, y/distance\n"
     ]
    }
   ],
   "source": [
    "def normalizeVec(x,y):\n",
    "    distance = np.sqrt(x*x+y*y)\n",
    "    return x/distance, y/distance\n",
    "\n",
    "def makeOffsetPoly(oldX, oldY, offset, outer_ccw = 1):\n",
    "    num_points = len(oldX)\n",
    "    \n",
    "    curr = 0\n",
    "    \n",
    "    prev = (curr + num_points - 1) % num_points\n",
    "    nex = (curr + 1) % num_points\n",
    "\n",
    "    vnX =  oldX[nex] - oldX[curr]\n",
    "    vnY =  oldY[nex] - oldY[curr]\n",
    "    vnnX, vnnY = normalizeVec(vnX,vnY)\n",
    "    nnnX = vnnY\n",
    "    nnnY = -vnnX\n",
    "\n",
    "    vpX =  oldX[curr] - oldX[prev]\n",
    "    vpY =  oldY[curr] - oldY[prev]\n",
    "    vpnX, vpnY = normalizeVec(vpX,vpY)\n",
    "    npnX = vpnY * outer_ccw\n",
    "    npnY = -vpnX * outer_ccw\n",
    "    \n",
    "    bisX = (nnnX + npnX) * outer_ccw\n",
    "    bisY = (nnnY + npnY) * outer_ccw\n",
    "\n",
    "    bisnX, bisnY = normalizeVec(bisX,  bisY)\n",
    "        \n",
    "    newX.append(oldX[curr] + 1 * bisnX)\n",
    "    newY.append(oldY[curr] + 1 * bisnY)\n",
    "\n",
    "newX = []\n",
    "newY = []\n",
    "\n",
    "x = [0, 100]\n",
    "y = [0, 0]\n",
    "makeOffsetPoly(x, y, 20)  \n",
    "print(newX, newY)"
   ]
  },
  {
   "cell_type": "code",
   "execution_count": null,
   "metadata": {},
   "outputs": [],
   "source": []
  },
  {
   "cell_type": "code",
   "execution_count": null,
   "metadata": {},
   "outputs": [],
   "source": []
  },
  {
   "cell_type": "code",
   "execution_count": null,
   "metadata": {},
   "outputs": [],
   "source": []
  },
  {
   "cell_type": "code",
   "execution_count": null,
   "metadata": {},
   "outputs": [],
   "source": []
  },
  {
   "cell_type": "code",
   "execution_count": 1,
   "metadata": {},
   "outputs": [
    {
     "data": {
      "text/plain": [
       "[<point.Point at 0x246afe20670>, <point.Point at 0x246afe20130>]"
      ]
     },
     "execution_count": 1,
     "metadata": {},
     "output_type": "execute_result"
    }
   ],
   "source": [
    "from classes import *\n",
    "\n",
    "p = Polygon()\n",
    "pnt = Point(1,1)\n",
    "\n",
    "p.test_point(pnt)\n",
    "\n",
    "p.get_intersect()\n",
    "\n",
    "p.new_par_line()"
   ]
  },
  {
   "cell_type": "code",
   "execution_count": null,
   "metadata": {},
   "outputs": [],
   "source": []
  }
 ],
 "metadata": {
  "kernelspec": {
   "display_name": "Python 3",
   "language": "python",
   "name": "python3"
  },
  "language_info": {
   "codemirror_mode": {
    "name": "ipython",
    "version": 3
   },
   "file_extension": ".py",
   "mimetype": "text/x-python",
   "name": "python",
   "nbconvert_exporter": "python",
   "pygments_lexer": "ipython3",
   "version": "3.8.5"
  }
 },
 "nbformat": 4,
 "nbformat_minor": 4
}
