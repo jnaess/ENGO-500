{
 "cells": [
  {
   "cell_type": "code",
   "execution_count": 4,
   "id": "bdfa02b8",
   "metadata": {},
   "outputs": [
    {
     "name": "stderr",
     "output_type": "stream",
     "text": [
      "PROJ: proj_create_from_database: Cannot find proj.db\n"
     ]
    }
   ],
   "source": [
    "import matplotlib.pyplot as plt\n",
    "import pandas as pd\n",
    "import geopandas as gpd\n",
    "from shapely.geometry import Point\n",
    "from shapely.geometry import LineString\n",
    "import pyproj\n",
    "from pyproj import CRS"
   ]
  },
  {
   "cell_type": "code",
   "execution_count": 1,
   "id": "e99b1e0c",
   "metadata": {},
   "outputs": [],
   "source": [
    "from classes import *\n",
    "        \n",
    "        \n",
    "        \n",
    "field = [[-114.202881,50.966211],[-114.202881,51.104384],[-113.900757,51.104384],[-113.900757,50.966211]]\n",
    "field = [[-114.31092,51.172859],[-114.31092,51.170787],[-114.304461,51.170787],[-114.304461,51.172859]]\n",
    "field = [[0,0],[0,10],[10,10],[10,0]]\n",
    "Sim = Simulator(field)"
   ]
  },
  {
   "cell_type": "code",
   "execution_count": 2,
   "id": "cc4d16bc-702b-4fb1-9451-dbfb61b7620a",
   "metadata": {},
   "outputs": [
    {
     "data": {
      "image/png": "[encoded data removed]",
      "text/plain": [
       "<Figure size 432x288 with 1 Axes>"
      ]
     },
     "metadata": {},
     "output_type": "display_data"
    }
   ],
   "source": [
    "Sim.upper.plot()"
   ]
  },
  {
   "cell_type": "code",
   "execution_count": 3,
   "id": "248fa24a-88ed-48d3-b62e-16f32b2f9d33",
   "metadata": {},
   "outputs": [
    {
     "data": {
      "text/plain": [
       "[[8.5, 2.25], [8.5, 3.75], [8.5, 5.25], [8.5, 6.75], [8.5, 8.25]]"
      ]
     },
     "execution_count": 3,
     "metadata": {},
     "output_type": "execute_result"
    }
   ],
   "source": [
    "Sim.upper.segments"
   ]
  },
  {
   "cell_type": "code",
   "execution_count": 4,
   "id": "3137e02f-d6df-45e2-a2b3-90838b4d0db4",
   "metadata": {},
   "outputs": [
    {
     "data": {
      "text/plain": [
       "(    myid  myorder  lat  long                 geometry\n",
       " 0    1.0      1.0  1.5  2.25  POINT (2.25000 1.50000)\n",
       " 1    1.0      2.0  2.5  2.25  POINT (2.25000 2.50000)\n",
       " 2    1.0      3.0  3.5  2.25  POINT (2.25000 3.50000)\n",
       " 3    1.0      4.0  4.5  2.25  POINT (2.25000 4.50000)\n",
       " 4    1.0      5.0  5.5  2.25  POINT (2.25000 5.50000)\n",
       " 5    1.0      6.0  6.5  2.25  POINT (2.25000 6.50000)\n",
       " 6    1.0      7.0  7.5  2.25  POINT (2.25000 7.50000)\n",
       " 7    1.0      8.0  8.5  2.25  POINT (2.25000 8.50000)\n",
       " 8    2.0      1.0  8.5  3.75  POINT (3.75000 8.50000)\n",
       " 9    2.0      2.0  7.5  3.75  POINT (3.75000 7.50000)\n",
       " 10   2.0      3.0  6.5  3.75  POINT (3.75000 6.50000)\n",
       " 11   2.0      4.0  5.5  3.75  POINT (3.75000 5.50000)\n",
       " 12   2.0      5.0  4.5  3.75  POINT (3.75000 4.50000)\n",
       " 13   2.0      6.0  3.5  3.75  POINT (3.75000 3.50000)\n",
       " 14   2.0      7.0  2.5  3.75  POINT (3.75000 2.50000)\n",
       " 15   2.0      8.0  1.5  3.75  POINT (3.75000 1.50000)\n",
       " 16   3.0      1.0  1.5  5.25  POINT (5.25000 1.50000)\n",
       " 17   3.0      2.0  2.5  5.25  POINT (5.25000 2.50000)\n",
       " 18   3.0      3.0  3.5  5.25  POINT (5.25000 3.50000)\n",
       " 19   3.0      4.0  4.5  5.25  POINT (5.25000 4.50000)\n",
       " 20   3.0      5.0  5.5  5.25  POINT (5.25000 5.50000)\n",
       " 21   3.0      6.0  6.5  5.25  POINT (5.25000 6.50000)\n",
       " 22   3.0      7.0  7.5  5.25  POINT (5.25000 7.50000)\n",
       " 23   3.0      8.0  8.5  5.25  POINT (5.25000 8.50000)\n",
       " 24   4.0      1.0  8.5  6.75  POINT (6.75000 8.50000)\n",
       " 25   4.0      2.0  7.5  6.75  POINT (6.75000 7.50000)\n",
       " 26   4.0      3.0  6.5  6.75  POINT (6.75000 6.50000)\n",
       " 27   4.0      4.0  5.5  6.75  POINT (6.75000 5.50000)\n",
       " 28   4.0      5.0  4.5  6.75  POINT (6.75000 4.50000)\n",
       " 29   4.0      6.0  3.5  6.75  POINT (6.75000 3.50000)\n",
       " 30   4.0      7.0  2.5  6.75  POINT (6.75000 2.50000)\n",
       " 31   4.0      8.0  1.5  6.75  POINT (6.75000 1.50000)\n",
       " 32   5.0      1.0  1.5  8.25  POINT (8.25000 1.50000)\n",
       " 33   5.0      2.0  2.5  8.25  POINT (8.25000 2.50000)\n",
       " 34   5.0      3.0  3.5  8.25  POINT (8.25000 3.50000)\n",
       " 35   5.0      4.0  4.5  8.25  POINT (8.25000 4.50000)\n",
       " 36   5.0      5.0  5.5  8.25  POINT (8.25000 5.50000)\n",
       " 37   5.0      6.0  6.5  8.25  POINT (8.25000 6.50000)\n",
       " 38   5.0      7.0  7.5  8.25  POINT (8.25000 7.50000)\n",
       " 39   5.0      8.0  8.5  8.25  POINT (8.25000 8.50000),\n",
       "                                                geometry\n",
       " myid                                                   \n",
       " 1.0   LINESTRING (2.25000 1.50000, 2.25000 2.50000, ...\n",
       " 2.0   LINESTRING (3.75000 8.50000, 3.75000 7.50000, ...\n",
       " 3.0   LINESTRING (5.25000 1.50000, 5.25000 2.50000, ...\n",
       " 4.0   LINESTRING (6.75000 8.50000, 6.75000 7.50000, ...\n",
       " 5.0   LINESTRING (8.25000 1.50000, 8.25000 2.50000, ...,\n",
       " myid\n",
       " 1.0    POLYGON ((1.50000 8.50000, 3.00000 8.50000, 3....\n",
       " 2.0    POLYGON ((4.50000 1.50000, 3.00000 1.50000, 3....\n",
       " 3.0    POLYGON ((4.50000 8.50000, 6.00000 8.50000, 6....\n",
       " 4.0    POLYGON ((7.50000 1.50000, 6.00000 1.50000, 6....\n",
       " 5.0    POLYGON ((7.50000 8.50000, 9.00000 8.50000, 9....\n",
       " dtype: geometry)"
      ]
     },
     "execution_count": 4,
     "metadata": {},
     "output_type": "execute_result"
    },
    {
     "data": {
      "image/png": "[encoded data removed]",
      "text/plain": [
       "<Figure size 432x288 with 1 Axes>"
      ]
     },
     "metadata": {},
     "output_type": "display_data"
    }
   ],
   "source": [
    "Sim.analyze()"
   ]
  },
  {
   "cell_type": "code",
   "execution_count": null,
   "id": "c37d7a45",
   "metadata": {},
   "outputs": [],
   "source": [
    "Sim.inner.plot()"
   ]
  },
  {
   "cell_type": "code",
   "execution_count": 5,
   "id": "87558275",
   "metadata": {},
   "outputs": [
    {
     "data": {
      "image/png": "[encoded data removed]",
      "text/plain": [
       "<Figure size 432x288 with 1 Axes>"
      ]
     },
     "metadata": {},
     "output_type": "display_data"
    }
   ],
   "source": [
    "Sim.outer.plot()"
   ]
  },
  {
   "cell_type": "code",
   "execution_count": null,
   "id": "3951dc8f-1e70-416f-8547-a541823ae645",
   "metadata": {},
   "outputs": [],
   "source": []
  }
 ],
 "metadata": {
  "kernelspec": {
   "display_name": "Python 3 (ipykernel)",
   "language": "python",
   "name": "python3"
  },
  "language_info": {
   "codemirror_mode": {
    "name": "ipython",
    "version": 3
   },
   "file_extension": ".py",
   "mimetype": "text/x-python",
   "name": "python",
   "nbconvert_exporter": "python",
   "pygments_lexer": "ipython3",
   "version": "3.8.12"
  }
 },
 "nbformat": 4,
 "nbformat_minor": 5
}
