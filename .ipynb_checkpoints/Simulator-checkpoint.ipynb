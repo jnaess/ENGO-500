{
 "cells": [
  {
   "cell_type": "code",
   "execution_count": 1,
   "metadata": {
    "tags": []
   },
   "outputs": [
    {
     "data": {
      "text/plain": [
       "[-114.202881, 50.966211]"
      ]
     },
     "execution_count": 1,
     "metadata": {},
     "output_type": "execute_result"
    }
   ],
   "source": [
    "from classes import *\n",
    "\n",
    "p = Point(-114.202881,50.966211, inProj = \"epsg:4326\", outProj = \"epsg:3857\")\n",
    "p"
   ]
  },
  {
   "cell_type": "code",
   "execution_count": 2,
   "metadata": {},
   "outputs": [
    {
     "name": "stdout",
     "output_type": "stream",
     "text": [
      "converting\n",
      "epsg:3780\n"
     ]
    },
    {
     "data": {
      "text/plain": [
       "[833862.9087933529, 50.92693307144441]"
      ]
     },
     "execution_count": 2,
     "metadata": {},
     "output_type": "execute_result"
    }
   ],
   "source": [
    "p.curr_to_out()\n",
    "p"
   ]
  },
  {
   "cell_type": "code",
   "execution_count": null,
   "metadata": {},
   "outputs": [],
   "source": [
    "-114.202881,50.966211,-114.202881,51.104384,-113.900757,51.104384,-113.900757,50.966211"
   ]
  },
  {
   "cell_type": "code",
   "execution_count": 1,
   "metadata": {},
   "outputs": [
    {
     "name": "stdout",
     "output_type": "stream",
     "text": [
      "3.3.0\n",
      "8.2.0\n",
      "(-105.15027111593008, 39.72785727727918)\n"
     ]
    }
   ],
   "source": [
    "import pyproj\n",
    "print(pyproj.__version__)  # 2.4.1\n",
    "print(pyproj.proj_version_str) # 6.2.1\n",
    "\n",
    "proj = pyproj.Transformer.from_crs(4326, 3857, always_xy=True)\n",
    "\n",
    "x1, y1 = (-114.202881,50.966211)\n",
    "x2, y2 = proj.transform(x1, y1)\n",
    "print((x2, y2))  # (-105.15027111593008, 39.72785727727918)"
   ]
  },
  {
   "cell_type": "code",
   "execution_count": null,
   "metadata": {},
   "outputs": [],
   "source": []
  }
 ],
 "metadata": {
  "kernelspec": {
   "display_name": "Python 3 (ipykernel)",
   "language": "python",
   "name": "python3"
  },
  "language_info": {
   "codemirror_mode": {
    "name": "ipython",
    "version": 3
   },
   "file_extension": ".py",
   "mimetype": "text/x-python",
   "name": "python",
   "nbconvert_exporter": "python",
   "pygments_lexer": "ipython3",
   "version": "3.8.12"
  }
 },
 "nbformat": 4,
 "nbformat_minor": 4
}
