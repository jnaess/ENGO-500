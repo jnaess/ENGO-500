{
 "cells": [
  {
   "cell_type": "code",
   "execution_count": 1,
   "id": "caa745cd-4783-448d-a812-83443bb1f27e",
   "metadata": {},
   "outputs": [
    {
     "name": "stdout",
     "output_type": "stream",
     "text": [
      "Epochs Processed: 6370: 100%|██████████| 6370/6370 [00:33<00:00, 191.88it/s]\n",
      "Epochs Processed: 6468: 100%|██████████| 6468/6468 [00:36<00:00, 175.78it/s]\n",
      "Epochs Processed: 6468: 100%|██████████| 6468/6468 [00:36<00:00, 179.29it/s]\n"
     ]
    }
   ],
   "source": [
    "import pandas as pd\n",
    "from manager import Manager\n",
    "from point import Coord\n",
    "\n",
    "manager = Manager(mean_jump = Coord(0,0, std = [.0, .2]),\n",
    "                  easting_jump_const = .01,\n",
    "                  northing_jump_const = .01,\n",
    "                  jump_occurance_probability = 500,\n",
    "                  easting_jump_const = 0,\n",
    "                  northing_jump_const = .1)\n",
    "\n",
    "manager.df_sim.to_csv(\"Simulation_NorthOnly.csv\")\n",
    "\n",
    "pd.concat([manager.ED.jump_df,manager.ED.drift_df, manager.ED.errors_df], axis=1).to_csv(\"Errors_Detected_NorthOnly.csv\")\n",
    "\n",
    "manager = Manager(mean_jump = Coord(0,0, std = [.2, .0]),\n",
    "                  easting_jump_const = .01,\n",
    "                  northing_jump_const = .01,\n",
    "                  jump_occurance_probability = 500,\n",
    "                  easting_jump_const = .1,\n",
    "                  northing_jump_const = 0)\n",
    "\n",
    "manager.df_sim.to_csv(\"Simulation_EastOnly.csv\")\n",
    "\n",
    "pd.concat([manager.ED.jump_df,manager.ED.drift_df, manager.ED.errors_df], axis=1).to_csv(\"Errors_Detected_EastOnly.csv\")\n",
    "\n",
    "manager = Manager(mean_jump = Coord(0,0, std = [.02, .02]),\n",
    "                  easting_jump_const = .01,\n",
    "                  northing_jump_const = .01,\n",
    "                  jump_occurance_probability = 500,\n",
    "                  easting_jump_const = .1,\n",
    "                  northing_jump_const = .1)\n",
    "\n",
    "manager.df_sim.to_csv(\"Simulation_Both.csv\")\n",
    "\n",
    "pd.concat([manager.ED.jump_df,manager.ED.drift_df, manager.ED.errors_df], axis=1).to_csv(\"Errors_Detected_Both.csv\")"
   ]
  },
  {
   "cell_type": "code",
   "execution_count": 2,
   "id": "a16e411a-f773-4293-a18e-cab99cde0f38",
   "metadata": {},
   "outputs": [
    {
     "data": {
      "image/png": "[encoded data removed]",
      "text/plain": [
       "<Figure size 432x288 with 1 Axes>"
      ]
     },
     "metadata": {},
     "output_type": "display_data"
    }
   ],
   "source": [
    "manager.plot_a()"
   ]
  },
  {
   "cell_type": "code",
   "execution_count": null,
   "id": "7e214cc3-b79a-4421-a0ac-bc53be77593d",
   "metadata": {},
   "outputs": [],
   "source": []
  }
 ],
 "metadata": {
  "kernelspec": {
   "display_name": "Python 3 (ipykernel)",
   "language": "python",
   "name": "python3"
  },
  "language_info": {
   "codemirror_mode": {
    "name": "ipython",
    "version": 3
   },
   "file_extension": ".py",
   "mimetype": "text/x-python",
   "name": "python",
   "nbconvert_exporter": "python",
   "pygments_lexer": "ipython3",
   "version": "3.8.12"
  }
 },
 "nbformat": 4,
 "nbformat_minor": 5
}
