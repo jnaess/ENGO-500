{
 "cells": [
  {
   "cell_type": "code",
   "execution_count": 4,
   "id": "58e0e8c1-c1a1-4762-8e76-cb6324755593",
   "metadata": {},
   "outputs": [
    {
     "name": "stderr",
     "output_type": "stream",
     "text": [
      "PROJ: proj_create_from_database: Cannot find proj.db\n"
     ]
    }
   ],
   "source": [
    "import matplotlib.pyplot as plt\n",
    "import pandas as pd\n",
    "import geopandas as gpd\n",
    "from shapely.geometry import Point\n",
    "from shapely.geometry import LineString\n",
    "import pyproj\n",
    "from pyproj import CRS"
   ]
  },
  {
   "cell_type": "code",
   "execution_count": 1,
   "id": "cac1acfb-0c22-40c2-b39b-dd13ce23f292",
   "metadata": {},
   "outputs": [
    {
     "name": "stdout",
     "output_type": "stream",
     "text": [
      "a\n"
     ]
    }
   ],
   "source": [
    "from classes import *\n",
    "\n",
    "\n",
    "class Simulator(PassGenerator):\n",
    "    \"\"\"\n",
    "    Contains and manages the simulation of our data\n",
    "    \"\"\"\n",
    "\n",
    "    def __init__(self, vertices, inProj = 4326, outProj = 3857, to_out = True, interval = 1, tractor_width = 1.5):\n",
    "        \"\"\"\n",
    "        Desc:\n",
    "        Input:\n",
    "            vertices, [[E,N], ... , [E,N]] must be clockwise!!!\n",
    "            inProj\n",
    "            outProj\n",
    "            to_out, True/False --> it True, then imidiately change coords to the Out projection\n",
    "        Output:\n",
    "        \"\"\"\n",
    "        self.inProj = inProj\n",
    "        self.outProj = outProj\n",
    "        self.to_out = to_out\n",
    "        \n",
    "        self.read_in_vertices(vertices)\n",
    "        \n",
    "        PassGenerator.__init__(self, vertices = self.vertices, tractor_width = tractor_width, interval = interval)\n",
    "\n",
    "        \n",
    "    def read_in_vertices(self, vertices):\n",
    "        \"\"\"\n",
    "        Desc:\n",
    "            Reads in the vertices and converts their points as needed\n",
    "        Input:\n",
    "            vertices, [[E,N], ... , [E,N]] must be clockwise!!!\n",
    "            inProj\n",
    "            outProj\n",
    "            to_out, True/False --> it True, then imidiately change coords to the Out projection\n",
    "        Output:\n",
    "            self.vertices\n",
    "        \"\"\"\n",
    "        self.vertices = []\n",
    "        \n",
    "        for point in vertices:\n",
    "            self.vertices.append(Point(point[0],point[1], inProj = self.inProj, outProj = self.outProj, to_out = self.to_out))\n",
    "        \n",
    "        \n",
    "        \n",
    "field = [[-114.202881,50.966211],[-114.202881,51.104384],[-113.900757,51.104384],[-113.900757,50.966211]]\n",
    "field = [[-114.31092,51.172859],[-114.31092,51.170787],[-114.304461,51.170787],[-114.304461,51.172859]]\n",
    "Sim = Simulator(field)"
   ]
  },
  {
   "cell_type": "code",
   "execution_count": 3,
   "id": "65f6856c-ee75-4e16-9bce-c89417283d7e",
   "metadata": {},
   "outputs": [
    {
     "data": {
      "image/png": "[encoded data removed]",
      "text/plain": [
       "<Figure size 432x288 with 1 Axes>"
      ]
     },
     "metadata": {},
     "output_type": "display_data"
    }
   ],
   "source": [
    "Sim.lower.plot()"
   ]
  },
  {
   "cell_type": "code",
   "execution_count": null,
   "id": "6df6415b-29c6-4d04-8e21-078996abaac0",
   "metadata": {},
   "outputs": [],
   "source": []
  }
 ],
 "metadata": {
  "kernelspec": {
   "display_name": "Python 3 (ipykernel)",
   "language": "python",
   "name": "python3"
  },
  "language_info": {
   "codemirror_mode": {
    "name": "ipython",
    "version": 3
   },
   "file_extension": ".py",
   "mimetype": "text/x-python",
   "name": "python",
   "nbconvert_exporter": "python",
   "pygments_lexer": "ipython3",
   "version": "3.8.12"
  }
 },
 "nbformat": 4,
 "nbformat_minor": 5
}
