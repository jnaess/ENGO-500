{
 "cells": [
  {
   "cell_type": "code",
   "execution_count": null,
   "id": "3ddeb16e-9483-489f-98a8-48dd485bd4ac",
   "metadata": {},
   "outputs": [],
   "source": [
    "from manager import Manager\n",
    "from point import Coord\n",
    "\n",
    "manager = Manager(mean_jump = Coord(0,0, std = [.0, .0]),\n",
    "                  jump_occurance_probability = 500,\n",
    "                  easting_jump_const = 0,\n",
    "                  northing_jump_const = .2)\n",
    "\n",
    "manager.df_sim\n",
    "\n",
    "manager.ED.drift_df\n",
    "manager.ED.jump_df\n",
    "manager.ED.errors_df\n",
    "\n",
    "#drift comparison\n",
    "\n",
    "#summar of errors\n",
    "#drifts accounted for and drifts missed\n",
    "#jump accounted for and jumps missed\n",
    "#total error accounted for"
   ]
  }
 ],
 "metadata": {
  "kernelspec": {
   "display_name": "Python 3 (ipykernel)",
   "language": "python",
   "name": "python3"
  },
  "language_info": {
   "codemirror_mode": {
    "name": "ipython",
    "version": 3
   },
   "file_extension": ".py",
   "mimetype": "text/x-python",
   "name": "python",
   "nbconvert_exporter": "python",
   "pygments_lexer": "ipython3",
   "version": "3.8.12"
  }
 },
 "nbformat": 4,
 "nbformat_minor": 5
}
