{
 "cells": [
  {
   "cell_type": "code",
   "execution_count": 1,
   "id": "a29e0610-ad3f-4bd5-8a15-bfb9526e189b",
   "metadata": {},
   "outputs": [
    {
     "name": "stdout",
     "output_type": "stream",
     "text": [
      "is_static --> False\n",
      "Epochs Processed: 6370: 100%|██████████| 6370/6370 [00:08<00:00, 727.78it/s]\n",
      "is_static --> False\n",
      "Epochs Processed: 6468: 100%|██████████| 6468/6468 [00:14<00:00, 439.30it/s]\n",
      "is_static --> False\n",
      "Epochs Processed: 6468: 100%|██████████| 6468/6468 [00:11<00:00, 585.79it/s]\n"
     ]
    }
   ],
   "source": [
    "from manager import Manager\n",
    "from point import Coord\n",
    "\n",
    "manager = Manager(mean_jump = Coord(0,0, std = [.0, .0]),\n",
    "                  jump_occurance_probability = 500,\n",
    "                  easting_jump_const = 0,\n",
    "                  northing_jump_const = .2)\n",
    "\n",
    "manager.df_sim.to_csv(\"Simulation_NorthOnly.csv\")\n",
    "\n",
    "manager.ED.drift_df.to_csv(\"ErrorDetected_NorthOnly_Drifts.csv\")\n",
    "manager.ED.jump_df.to_csv(\"ErrorDetected_NorthOnly_Jumps.csv\")\n",
    "manager.ED.errors_df.to_csv(\"ErrorDetected_NorthOnly_Errors.csv\")\n",
    "\n",
    "manager = Manager(mean_jump = Coord(0,0, std = [.0, .0]),\n",
    "                  jump_occurance_probability = 500,\n",
    "                  easting_jump_const = .2,\n",
    "                  northing_jump_const = 0)\n",
    "\n",
    "manager.df_sim.to_csv(\"Simulation_EastOnly.csv\")\n",
    "\n",
    "manager.ED.drift_df.to_csv(\"ErrorDetected_EastOnly_Drifts.csv\")\n",
    "manager.ED.jump_df.to_csv(\"ErrorDetected_EastOnly_Jumps.csv\")\n",
    "manager.ED.errors_df.to_csv(\"ErrorDetected_EastOnly_Errors.csv\")\n",
    "\n",
    "manager = Manager(mean_jump = Coord(0,0, std = [.02, .02]),\n",
    "                  jump_occurance_probability = 500,\n",
    "                  easting_jump_const = .1,\n",
    "                  northing_jump_const = .1)\n",
    "\n",
    "manager.df_sim.to_csv(\"Simulation_Both.csv\")\n",
    "\n",
    "manager.ED.drift_df.to_csv(\"ErrorDetected_Both_Drifts.csv\")\n",
    "manager.ED.jump_df.to_csv(\"ErrorDetected_Both_Jumps.csv\")\n",
    "manager.ED.errors_df.to_csv(\"ErrorDetected_Both_Errors.csv\")"
   ]
  },
  {
   "cell_type": "code",
   "execution_count": null,
   "id": "3937c159-a1c8-4ec2-97cc-7333a9ac2fb3",
   "metadata": {},
   "outputs": [],
   "source": []
  }
 ],
 "metadata": {
  "kernelspec": {
   "display_name": "Python 3",
   "language": "python",
   "name": "python3"
  },
  "language_info": {
   "codemirror_mode": {
    "name": "ipython",
    "version": 3
   },
   "file_extension": ".py",
   "mimetype": "text/x-python",
   "name": "python",
   "nbconvert_exporter": "python",
   "pygments_lexer": "ipython3",
   "version": "3.8.8"
  }
 },
 "nbformat": 4,
 "nbformat_minor": 5
}
