{
 "cells": [
  {
   "cell_type": "code",
   "execution_count": 9,
   "metadata": {},
   "outputs": [
    {
     "data": {
      "image/png": "[encoded data removed]",
      "text/plain": [
       "<Figure size 432x288 with 1 Axes>"
      ]
     },
     "metadata": {},
     "output_type": "display_data"
    }
   ],
   "source": [
    "from classes import *\n",
    "\n",
    "p = Polygon()\n",
    "pnt = Point(1,1)\n",
    "\n",
    "p.test_point(pnt)\n",
    "\n",
    "p.get_intersect()\n",
    "\n",
    "p.new_par_line()\n",
    "\n",
    "\n",
    "p = Polygon([Point(0,0), Point(0,10), Point(10,10), Point(10,0)])\n",
    "pnt = Point(-1,1)\n",
    "\n",
    "p.test_point(pnt)\n",
    "\n",
    "p.plot()"
   ]
  },
  {
   "cell_type": "code",
   "execution_count": 6,
   "metadata": {},
   "outputs": [
    {
     "data": {
      "image/png": "[encoded data removed]",
      "text/plain": [
       "<Figure size 432x288 with 1 Axes>"
      ]
     },
     "metadata": {},
     "output_type": "display_data"
    }
   ],
   "source": [
    "from classes import *\n",
    "        \n",
    "pf = PathFollower(Point(0,0), Point(1,10))\n",
    "\n",
    "pf.segment()\n",
    "\n",
    "pf.plot()"
   ]
  },
  {
   "cell_type": "code",
   "execution_count": 1,
   "metadata": {},
   "outputs": [
    {
     "name": "stdout",
     "output_type": "stream",
     "text": [
      "_____Printing Path Generator Variables____                \n",
      " Key Variables                 \n",
      " Tractor Width: 1.5                 \n",
      "\n",
      " Key Points                 \n",
      " self.low_left: [0, 0]                \n",
      " self.top_left: [0, 10]                \n",
      " self.low_right: [10, 0]                \n",
      " self.top_right: [10, 10]                \n",
      "\n"
     ]
    },
    {
     "data": {
      "text/plain": [
       "complete"
      ]
     },
     "execution_count": 1,
     "metadata": {},
     "output_type": "execute_result"
    }
   ],
   "source": [
    "from classes import *\n",
    "\n",
    "path = PathGenerator()\n",
    "\n",
    "#path.inner.plot()\n",
    "#path.outer.plot()\n",
    "path"
   ]
  },
  {
   "cell_type": "code",
   "execution_count": null,
   "metadata": {},
   "outputs": [],
   "source": []
  }
 ],
 "metadata": {
  "kernelspec": {
   "display_name": "Python 3",
   "language": "python",
   "name": "python3"
  },
  "language_info": {
   "codemirror_mode": {
    "name": "ipython",
    "version": 3
   },
   "file_extension": ".py",
   "mimetype": "text/x-python",
   "name": "python",
   "nbconvert_exporter": "python",
   "pygments_lexer": "ipython3",
   "version": "3.8.5"
  }
 },
 "nbformat": 4,
 "nbformat_minor": 4
}
