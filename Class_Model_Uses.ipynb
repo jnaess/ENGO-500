{
 "cells": [
  {
   "cell_type": "code",
   "execution_count": 1,
   "metadata": {},
   "outputs": [
    {
     "data": {
      "text/plain": [
       "[<point.Point at 0x1c616260820>, <point.Point at 0x1c616260760>]"
      ]
     },
     "execution_count": 1,
     "metadata": {},
     "output_type": "execute_result"
    }
   ],
   "source": [
    "from classes import *\n",
    "\n",
    "p = Polygon()\n",
    "pnt = Point(1,1)\n",
    "\n",
    "p.test_point(pnt)\n",
    "\n",
    "p.get_intersect()\n",
    "\n",
    "p.new_par_line()\n",
    "\n",
    "p = Polygon([Point(0,0), Point(0,10), Point(10,10), Point(10,0)])\n",
    "pnt = Point(1,1)\n",
    "\n",
    "p.test_point(pnt)\n",
    "\n",
    "p.plot()"
   ]
  },
  {
   "cell_type": "code",
   "execution_count": 1,
   "metadata": {},
   "outputs": [
    {
     "data": {
      "image/png": "[encoded data removed]",
      "text/plain": [
       "<Figure size 432x288 with 1 Axes>"
      ]
     },
     "metadata": {},
     "output_type": "display_data"
    }
   ],
   "source": [
    "from classes import *\n",
    "        \n",
    "pf = PathFollower(Point(0,0), Point(1,10))\n",
    "\n",
    "pf.segment()\n",
    "\n",
    "pf.plot()"
   ]
  },
  {
   "cell_type": "code",
   "execution_count": null,
   "metadata": {},
   "outputs": [],
   "source": []
  }
 ],
 "metadata": {
  "kernelspec": {
   "display_name": "Python 3",
   "language": "python",
   "name": "python3"
  },
  "language_info": {
   "codemirror_mode": {
    "name": "ipython",
    "version": 3
   },
   "file_extension": ".py",
   "mimetype": "text/x-python",
   "name": "python",
   "nbconvert_exporter": "python",
   "pygments_lexer": "ipython3",
   "version": "3.8.5"
  }
 },
 "nbformat": 4,
 "nbformat_minor": 4
}
