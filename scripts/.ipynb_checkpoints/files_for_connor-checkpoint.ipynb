{
 "cells": [
  {
   "cell_type": "code",
   "execution_count": null,
   "id": "6ea79f7f-2de7-470b-8224-b4c91c6c3e91",
   "metadata": {},
   "outputs": [],
   "source": [
    "from manager import Manager\n",
    "from point import Coord\n",
    "\n",
    "manager = Manager(mean_jump = Coord(0,0, std = [.0, .0]),\n",
    "                  jump_occurance_probability = 500,\n",
    "                  easting_jump_const = 0,\n",
    "                  northing_jump_const = .2)\n",
    "\n",
    "manager.df_sim.to_csv(\"Simulation_NorthOnly.csv\")\n",
    "\n",
    "manager.ED.drift_df.to_csv(\"ErrorDetected_NorthOnly_Drifts.csv\")\n",
    "manager.ED.jump_df.to_csv(\"ErrorDetected_NorthOnly_Jumps.csv\")\n",
    "manager.ED.errors_df.to_csv(\"ErrorDetected_NorthOnly_Errors.csv\")\n",
    "\n",
    "manager = Manager(mean_jump = Coord(0,0, std = [.0, .0]),\n",
    "                  jump_occurance_probability = 500,\n",
    "                  easting_jump_const = .2,\n",
    "                  northing_jump_const = 0)\n",
    "\n",
    "manager.df_sim.to_csv(\"Simulation_EastOnly.csv\")\n",
    "\n",
    "manager.ED.drift_df.to_csv(\"ErrorDetected_EastOnly_Drifts.csv\")\n",
    "manager.ED.jump_df.to_csv(\"ErrorDetected_EastOnly_Jumps.csv\")\n",
    "manager.ED.errors_df.to_csv(\"ErrorDetected_EastOnly_Errors.csv\")\n",
    "\n",
    "manager = Manager(mean_jump = Coord(0,0, std = [.02, .02]),\n",
    "                  jump_occurance_probability = 500,\n",
    "                  easting_jump_const = .1,\n",
    "                  northing_jump_const = .1)\n",
    "\n",
    "manager.df_sim.to_csv(\"Simulation_Both.csv\")\n",
    "\n",
    "manager.ED.drift_df.to_csv(\"ErrorDetected_Both_Drifts.csv\")\n",
    "manager.ED.jump_df.to_csv(\"ErrorDetected_Both_Jumps.csv\")\n",
    "manager.ED.errors_df.to_csv(\"ErrorDetected_Both_Errors.csv\")"
   ]
  }
 ],
 "metadata": {
  "kernelspec": {
   "display_name": "Python 3 (ipykernel)",
   "language": "python",
   "name": "python3"
  },
  "language_info": {
   "codemirror_mode": {
    "name": "ipython",
    "version": 3
   },
   "file_extension": ".py",
   "mimetype": "text/x-python",
   "name": "python",
   "nbconvert_exporter": "python",
   "pygments_lexer": "ipython3",
   "version": "3.8.12"
  }
 },
 "nbformat": 4,
 "nbformat_minor": 5
}
