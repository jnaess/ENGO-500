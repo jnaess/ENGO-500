{
 "cells": [
  {
   "cell_type": "code",
   "execution_count": null,
   "id": "b2e9f3aa-602b-4098-9f5f-e07e9be89231",
   "metadata": {},
   "outputs": [],
   "source": [
    "   \n",
    "from classes import *\n",
    "import pandas as pd,\n",
    "import numpy as np\n",
    "\n",
    "E_T = [5670528.276]\n",
    "N_T = [707668.834]\n",
    "    #rtk\\n\",\n",
    "    \n",
    "df = pd.read_csv(\"rtk.csv\")\n",
    "ED = ErrorDetector(df, E_T, N_T)\n",
    "ED.generate_error_dataframe()\n",
    "\n",
    "ED.drift_df.to_csv(\"rtk_drift2.csv\")\n",
    "ED.jump_df.to_csv(\"rtk_jump2.csv\")\n",
    "ED.errors_df.to_csv(\"rtk_errors2.csv\")\n"
   ]
  },
  {
   "cell_type": "code",
   "execution_count": 3,
   "id": "23d2b41b-24f2-4682-80e3-b4cba04f8162",
   "metadata": {},
   "outputs": [
    {
     "name": "stdout",
     "output_type": "stream",
     "text": [
      "Epochs Processed: 40: 100%|███████████████████████████████████████████████████████████| 40/40 [00:00<00:00, 641.62it/s]\n"
     ]
    }
   ],
   "source": [
    "import pandas as pd\n",
    "from classes import *\n",
    "\n",
    "goal_file = \"Output_Tracks.csv\"\n",
    "\n",
    "df = pd.read_csv(\"Output_Tracks.csv\")\n",
    "\n",
    "df.columns\n",
    "std = [df['True_N_std'].to_list(),df['True_N_std'].to_list()]\n",
    "tru_N = df['True_N_std'].to_list()\n",
    "tru_E = df['True_E_std'].to_list()\n",
    "rename_keys = [\"Unnamed: 0\", \"Real_E\", \"Real_N\", \"Real_E_std\", \"Real_N_std\"]\n",
    "\n",
    "ED = ErrorDetector(df, tru_E, tru_N, rename_keys = rename_keys, true_std = std, is_static=False)\n",
    "\n",
    "ED.generate_error_dataframe()\n",
    "ED.drift_df.to_csv(\"test_analysis_drift.csv\")\n",
    "ED.jump_df.to_csv(\"test_analysis_jump.csv\")\n",
    "ED.errors_df.to_csv(\"test_analysis_errors.csv\")"
   ]
  },
  {
   "cell_type": "code",
   "execution_count": 2,
   "id": "3d377406-ce82-4706-9cbb-a448eb97be20",
   "metadata": {},
   "outputs": [
    {
     "data": {
      "text/plain": [
       "int"
      ]
     },
     "execution_count": 2,
     "metadata": {},
     "output_type": "execute_result"
    }
   ],
   "source": [
    "type(5)"
   ]
  },
  {
   "cell_type": "code",
   "execution_count": null,
   "id": "ca2b1953-9e4f-49bb-ba94-dfe7812e4162",
   "metadata": {},
   "outputs": [],
   "source": []
  }
 ],
 "metadata": {
  "kernelspec": {
   "display_name": "Python 3 (ipykernel)",
   "language": "python",
   "name": "python3"
  },
  "language_info": {
   "codemirror_mode": {
    "name": "ipython",
    "version": 3
   },
   "file_extension": ".py",
   "mimetype": "text/x-python",
   "name": "python",
   "nbconvert_exporter": "python",
   "pygments_lexer": "ipython3",
   "version": "3.8.12"
  }
 },
 "nbformat": 4,
 "nbformat_minor": 5
}
