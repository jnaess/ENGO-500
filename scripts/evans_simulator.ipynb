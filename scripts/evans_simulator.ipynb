{
 "cells": [
  {
   "cell_type": "code",
   "execution_count": 2,
   "id": "9f01c101-54ea-4a5f-8e9b-58ffd4ececc5",
   "metadata": {},
   "outputs": [
    {
     "name": "stdout",
     "output_type": "stream",
     "text": [
      "Epochs Processed: 86589: 100%|██████████| 86589/86589 [02:44<00:00, 525.68it/s]\n"
     ]
    }
   ],
   "source": [
    "from errorDetector import ErrorDetector\n",
    "import pandas as pd\n",
    "import numpy as np\n",
    "\n",
    "import matplotlib.pyplot as plt\n",
    "import matplotlib.patches as patches\n",
    "import numpy as np\n",
    "\n",
    "E_T = 5670528.265\n",
    "N_T = 707668.383\n",
    "\n",
    "#ppp\n",
    "df3 = pd.read_csv(\"ppp_final.csv\")\n",
    "ED2 = ErrorDetector(df3, E_T, N_T, rename_keys = [\"Unnamed: 0\", \"new_lat\", \"new_lon\", \"lat_sigma\", \"lon_sigma\"])\n",
    "        \n",
    "ED2.generate_error_dataframe()        \n",
    "\n",
    "ED2.drift_df.to_csv(\"ppp_drift.csv\")\n",
    "ED2.jump_df.to_csv(\"ppp_jump.csv\")\n",
    "ED2.errors_df.to_csv(\"ppp_errors.csv\")"
   ]
  },
  {
   "cell_type": "code",
<<<<<<< HEAD
   "execution_count": 3,
=======
<<<<<<< HEAD
   "execution_count": 7,
=======
   "execution_count": 1,
>>>>>>> 3ed5c090b6ec43e209b0dadcd5c413fa3601c4a8
>>>>>>> 83c30630cd54222a4f9e869e9c1f99c539086a5f
   "id": "948ba6f4-0e57-4312-8b0e-021e017bb726",
   "metadata": {},
   "outputs": [
    {
     "name": "stdout",
     "output_type": "stream",
     "text": [
<<<<<<< HEAD
      "Epochs Processed: 86675: 100%|██████████| 86675/86675 [02:30<00:00, 577.53it/s]\n"
=======
<<<<<<< HEAD
      "Epochs Processed: 86671: 100%|██████████| 86671/86671 [03:25<00:00, 422.01it/s]\n"
=======
      "Epochs Processed: 86671: 100%|██████████| 86671/86671 [02:43<00:00, 529.90it/s]\n"
>>>>>>> 3ed5c090b6ec43e209b0dadcd5c413fa3601c4a8
>>>>>>> 83c30630cd54222a4f9e869e9c1f99c539086a5f
     ]
    }
   ],
   "source": [
<<<<<<< HEAD
=======
<<<<<<< HEAD
=======
    "from errorDetector import ErrorDetector\n",
    "import pandas as pd\n",
    "import numpy as np\n",
    "\n",
    "import matplotlib.pyplot as plt\n",
    "import matplotlib.patches as patches\n",
    "import numpy as np\n",
    "\n",
    "E_T = 5670528.276\n",
    "N_T = 707668.834\n",
    "\n",
>>>>>>> 3ed5c090b6ec43e209b0dadcd5c413fa3601c4a8
>>>>>>> 83c30630cd54222a4f9e869e9c1f99c539086a5f
    "#psr\n",
    "df2 = pd.read_csv(\"psr_final.csv\")\n",
    "ED1 = ErrorDetector(df2, E_T, N_T, rename_keys = [\"Unnamed: 0\", \"new_lat\", \"new_lon\", \"lat_sigma\", \"lon_sigma\"])\n",
    "        \n",
    "ED1.generate_error_dataframe()        \n",
    "\n",
<<<<<<< HEAD
    "ED1.drift_df.to_csv(\"psr_drift.csv\")\n",
    "ED1.jump_df.to_csv(\"psr_jump.csv\")\n",
    "ED1.errors_df.to_csv(\"psr_errors.csv\")"
=======
<<<<<<< HEAD
    "ED1.drift_df.to_csv(\"psr_drift.csv\")\n",
    "ED1.jump_df.to_csv(\"psr_jump.csv\")\n",
    "ED1.errors_df.to_csv(\"psr_errors.csv\")"
=======
    "ED1.drift_df.to_csv(\"psr_drift2.csv\")\n",
    "ED1.jump_df.to_csv(\"psr_jump2.csv\")\n",
    "ED1.errors_df.to_csv(\"psr_errors2.csv\")"
>>>>>>> 3ed5c090b6ec43e209b0dadcd5c413fa3601c4a8
>>>>>>> 83c30630cd54222a4f9e869e9c1f99c539086a5f
   ]
  },
  {
   "cell_type": "code",
   "execution_count": 4,
   "id": "a889ddbc-1a2c-427e-80bd-3a977ff39a61",
   "metadata": {},
   "outputs": [
    {
     "name": "stdout",
     "output_type": "stream",
     "text": [
      "Epochs Processed: 86671: 100%|██████████| 86671/86671 [01:49<00:00, 790.85it/s]\n"
     ]
    }
   ],
   "source": [
    "#rtk\n",
    "df = pd.read_csv(\"rtk_final.csv\")\n",
    "ED = ErrorDetector(df, E_T, N_T)\n",
    "        \n",
    "ED.generate_error_dataframe()        \n",
    "\n",
    "ED.drift_df.to_csv(\"rtk_drift.csv\")\n",
    "ED.jump_df.to_csv(\"rtk_jump.csv\")\n",
    "ED.errors_df.to_csv(\"rtk_errors.csv\")"
   ]
  },
  {
   "cell_type": "code",
   "execution_count": null,
   "id": "a3f7d8b2-9dd1-4fca-ab61-1d7f3c0b7fcb",
   "metadata": {},
   "outputs": [],
   "source": [
    "  "
   ]
  }
 ],
 "metadata": {
  "kernelspec": {
   "display_name": "Python 3",
   "language": "python",
   "name": "python3"
  },
  "language_info": {
   "codemirror_mode": {
    "name": "ipython",
    "version": 3
   },
   "file_extension": ".py",
   "mimetype": "text/x-python",
   "name": "python",
   "nbconvert_exporter": "python",
   "pygments_lexer": "ipython3",
   "version": "3.8.8"
  }
 },
 "nbformat": 4,
 "nbformat_minor": 5
}
