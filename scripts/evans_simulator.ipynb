{
 "cells": [
  {
   "cell_type": "code",
   "execution_count": 5,
   "id": "9f01c101-54ea-4a5f-8e9b-58ffd4ececc5",
   "metadata": {},
   "outputs": [
    {
     "name": "stdout",
     "output_type": "stream",
     "text": [
      "Epochs Processed: 86589: 100%|██████████| 86589/86589 [02:41<00:00, 536.75it/s]\n"
     ]
    }
   ],
   "source": [
    "from errorDetector import ErrorDetector\n",
    "import pandas as pd\n",
    "import numpy as np\n",
    "\n",
    "import matplotlib.pyplot as plt\n",
    "import matplotlib.patches as patches\n",
    "import numpy as np\n",
    "\n",
    "E_T = 5670528.265\n",
    "N_T = 707668.383\n",
    "\n",
    "#ppp\n",
    "df3 = pd.read_csv(\"ppp_final.csv\")\n",
    "ED2 = ErrorDetector(df3, E_T, N_T, rename_keys = [\"Unnamed: 0\", \"new_lat\", \"new_lon\", \"lat_sigma\", \"lon_sigma\"])\n",
    "        \n",
    "ED2.generate_error_dataframe()        \n",
    "\n",
    "ED2.drift_df.to_csv(\"ppp_drift10.csv\")\n",
    "ED2.jump_df.to_csv(\"ppp_jump10.csv\")\n",
    "ED2.errors_df.to_csv(\"ppp_errors10.csv\")"
   ]
  },
  {
   "cell_type": "code",
   "execution_count": 6,
   "id": "948ba6f4-0e57-4312-8b0e-021e017bb726",
   "metadata": {},
   "outputs": [
    {
     "name": "stdout",
     "output_type": "stream",
     "text": [
      "Epochs Processed: 63068:  73%|███████▎  | 63067/86675 [01:39<00:24, 979.62it/s]"
     ]
    },
    {
     "name": "stderr",
     "output_type": "stream",
     "text": [
      "IOPub message rate exceeded.\n",
      "The Jupyter server will temporarily stop sending output\n",
      "to the client in order to avoid crashing it.\n",
      "To change this limit, set the config variable\n",
      "`--ServerApp.iopub_msg_rate_limit`.\n",
      "\n",
      "Current values:\n",
      "ServerApp.iopub_msg_rate_limit=1000.0 (msgs/sec)\n",
      "ServerApp.rate_limit_window=3.0 (secs)\n",
      "\n"
     ]
    },
    {
     "name": "stdout",
     "output_type": "stream",
     "text": [
      "Epochs Processed: 86675: 100%|██████████| 86675/86675 [02:05<00:00, 690.63it/s] \n"
     ]
    }
   ],
   "source": [
    "#psr\n",
    "df2 = pd.read_csv(\"psr_final.csv\")\n",
    "ED1 = ErrorDetector(df2, E_T, N_T, rename_keys = [\"Unnamed: 0\", \"new_lat\", \"new_lon\", \"lat_sigma\", \"lon_sigma\"])\n",
    "        \n",
    "ED1.generate_error_dataframe()        \n",
    "\n",
    "ED1.drift_df.to_csv(\"psr_drift10.csv\")\n",
    "ED1.jump_df.to_csv(\"psr_jump10.csv\")\n",
    "ED1.errors_df.to_csv(\"psr_errors10.csv\")"
   ]
  },
  {
   "cell_type": "code",
   "execution_count": 7,
   "id": "a889ddbc-1a2c-427e-80bd-3a977ff39a61",
   "metadata": {},
   "outputs": [
    {
     "name": "stdout",
     "output_type": "stream",
     "text": [
      "Epochs Processed: 86671: 100%|██████████| 86671/86671 [02:11<00:00, 661.05it/s]\n"
     ]
    }
   ],
   "source": [
    "#rtk\n",
    "df = pd.read_csv(\"rtk_final.csv\")\n",
    "ED = ErrorDetector(df, E_T, N_T)\n",
    "        \n",
    "ED.generate_error_dataframe()        \n",
    "\n",
    "ED.drift_df.to_csv(\"rtk_drift10.csv\")\n",
    "ED.jump_df.to_csv(\"rtk_jump10.csv\")\n",
    "ED.errors_df.to_csv(\"rtk_errors10.csv\")"
   ]
  },
  {
   "cell_type": "code",
   "execution_count": null,
   "id": "a3f7d8b2-9dd1-4fca-ab61-1d7f3c0b7fcb",
   "metadata": {},
   "outputs": [],
   "source": [
    "  "
   ]
  }
 ],
 "metadata": {
  "kernelspec": {
   "display_name": "Python 3",
   "language": "python",
   "name": "python3"
  },
  "language_info": {
   "codemirror_mode": {
    "name": "ipython",
    "version": 3
   },
   "file_extension": ".py",
   "mimetype": "text/x-python",
   "name": "python",
   "nbconvert_exporter": "python",
   "pygments_lexer": "ipython3",
   "version": "3.8.8"
  }
 },
 "nbformat": 4,
 "nbformat_minor": 5
}
