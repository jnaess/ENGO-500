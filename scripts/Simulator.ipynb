{
 "cells": [
  {
   "cell_type": "code",
   "execution_count": 6,
   "metadata": {
    "tags": []
   },
   "outputs": [
    {
     "name": "stdout",
     "output_type": "stream",
     "text": [
      "converting\n",
      "4326\n"
     ]
    },
    {
     "data": {
      "text/plain": [
       "[-12713006.560044818, 6615319.014800582]"
      ]
     },
     "execution_count": 6,
     "metadata": {},
     "output_type": "execute_result"
    }
   ],
   "source": [
    "from classes import *\n",
    "\n",
    "p = Point(-114.202881,50.966211, inProj = 4326, outProj = 3857)\n",
    "p.curr_to_out()\n",
    "p"
   ]
  },
  {
   "cell_type": "code",
   "execution_count": 4,
   "metadata": {},
   "outputs": [
    {
     "name": "stdout",
     "output_type": "stream",
     "text": [
      "converting\n",
      "4326\n"
     ]
    },
    {
     "data": {
      "text/plain": [
       "[-12713006.560044818, 6639778.855639776]"
      ]
     },
     "execution_count": 4,
     "metadata": {},
     "output_type": "execute_result"
    }
   ],
   "source": [
    "p = Point(-114.202881,51.104384, inProj = 4326, outProj = 3857)\n",
    "p.curr_to_out()\n",
    "p"
   ]
  },
  {
   "cell_type": "code",
   "execution_count": 5,
   "metadata": {},
   "outputs": [
    {
     "name": "stdout",
     "output_type": "stream",
     "text": [
      "converting\n",
      "4326\n"
     ]
    },
    {
     "data": {
      "text/plain": [
       "[-12679374.27020839, 6639778.855639776]"
      ]
     },
     "execution_count": 5,
     "metadata": {},
     "output_type": "execute_result"
    }
   ],
   "source": [
    "p = Point(-113.900757,51.104384, inProj = 4326, outProj = 3857)\n",
    "p.curr_to_out()\n",
    "p"
   ]
  },
  {
   "cell_type": "code",
   "execution_count": null,
   "metadata": {},
   "outputs": [],
   "source": [
    "-114.202881,50.966211,-114.202881,51.104384,-113.900757,51.104384,-113.900757,50.966211"
   ]
  },
  {
   "cell_type": "code",
   "execution_count": 7,
   "metadata": {},
   "outputs": [
    {
     "name": "stdout",
     "output_type": "stream",
     "text": [
      "3.3.0\n",
      "8.2.0\n",
      "(-12713006.560044818, 6615319.014800582)\n"
     ]
    }
   ],
   "source": [
    "import pyproj\n",
    "print(pyproj.__version__)  # 2.4.1\n",
    "print(pyproj.proj_version_str) # 6.2.1\n",
    "\n",
    "proj = pyproj.Transformer.from_crs(4326, 3857, always_xy=True)\n",
    "\n",
    "x1, y1 = (-114.202881,50.966211)\n",
    "x2, y2 = proj.transform(x1, y1)\n",
    "print((x2, y2))  # (-105.15027111593008, 39.72785727727918)"
   ]
  },
  {
   "cell_type": "code",
   "execution_count": null,
   "metadata": {},
   "outputs": [],
   "source": []
  }
 ],
 "metadata": {
  "kernelspec": {
   "display_name": "Python 3",
   "language": "python",
   "name": "python3"
  },
  "language_info": {
   "codemirror_mode": {
    "name": "ipython",
    "version": 3
   },
   "file_extension": ".py",
   "mimetype": "text/x-python",
   "name": "python",
   "nbconvert_exporter": "python",
   "pygments_lexer": "ipython3",
   "version": "3.8.8"
  }
 },
 "nbformat": 4,
 "nbformat_minor": 4
}
