{
 "cells": [
  {
   "cell_type": "code",
   "execution_count": 6,
   "id": "ef8d3395-6ef9-42b5-bb70-baddf443ac32",
   "metadata": {},
   "outputs": [],
   "source": [
    "import warnings; warnings.filterwarnings(action='ignore')\n",
    "from matplotlib import pyplot as plt\n",
    "%matplotlib inline\n",
    "import geopandas as gpd\n",
    "\n",
    "from shapely.geometry import LineString, mapping\n",
    "\n",
    "def point_to_linestring(points):\n",
    "    gdf = gpd.read_file(fili_shps) #POINTS\n",
    "    latlon = [mapping(x)['coordinates'] for x in gdf.geometry]\n",
    "    lats = [x[1] for x in latlon]\n",
    "    lons = [x[0] for x in latlon]\n",
    "    linestr = LineString(zip(lons, lats))\n",
    "    return gpd.GeoDataFrame(index=[0], crs=gdf.crs, geometry=[linestr])"
   ]
  },
  {
   "cell_type": "code",
   "execution_count": 17,
   "id": "983478b2-ea7b-466f-862f-35f089d57ce8",
   "metadata": {},
   "outputs": [
    {
     "ename": "ValueError",
     "evalue": "DataFrame constructor not properly called!",
     "output_type": "error",
     "traceback": [
      "\u001b[1;31m---------------------------------------------------------------------------\u001b[0m",
      "\u001b[1;31mValueError\u001b[0m                                Traceback (most recent call last)",
      "Input \u001b[1;32mIn [17]\u001b[0m, in \u001b[0;36m<cell line: 2>\u001b[1;34m()\u001b[0m\n\u001b[0;32m      1\u001b[0m field \u001b[38;5;241m=\u001b[39m [(\u001b[38;5;241m-\u001b[39m\u001b[38;5;241m114.31092\u001b[39m,\u001b[38;5;241m51.172859\u001b[39m),(\u001b[38;5;241m-\u001b[39m\u001b[38;5;241m114.31092\u001b[39m,\u001b[38;5;241m51.170787\u001b[39m),(\u001b[38;5;241m-\u001b[39m\u001b[38;5;241m114.304461\u001b[39m,\u001b[38;5;241m51.170787\u001b[39m),(\u001b[38;5;241m-\u001b[39m\u001b[38;5;241m114.304461\u001b[39m,\u001b[38;5;241m51.172859\u001b[39m)]\n\u001b[1;32m----> 2\u001b[0m \u001b[43mgpd\u001b[49m\u001b[38;5;241;43m.\u001b[39;49m\u001b[43mGeoDataFrame\u001b[49m\u001b[43m(\u001b[49m\u001b[43mLineString\u001b[49m\u001b[43m(\u001b[49m\u001b[43mfield\u001b[49m\u001b[43m)\u001b[49m\u001b[43m)\u001b[49m\n",
      "File \u001b[1;32m~\\Anaconda3\\envs\\capstone\\lib\\site-packages\\geopandas\\geodataframe.py:105\u001b[0m, in \u001b[0;36mGeoDataFrame.__init__\u001b[1;34m(self, geometry, crs, *args, **kwargs)\u001b[0m\n\u001b[0;32m    103\u001b[0m \u001b[38;5;28;01mdef\u001b[39;00m \u001b[38;5;21m__init__\u001b[39m(\u001b[38;5;28mself\u001b[39m, \u001b[38;5;241m*\u001b[39margs, geometry\u001b[38;5;241m=\u001b[39m\u001b[38;5;28;01mNone\u001b[39;00m, crs\u001b[38;5;241m=\u001b[39m\u001b[38;5;28;01mNone\u001b[39;00m, \u001b[38;5;241m*\u001b[39m\u001b[38;5;241m*\u001b[39mkwargs):\n\u001b[0;32m    104\u001b[0m     \u001b[38;5;28;01mwith\u001b[39;00m compat\u001b[38;5;241m.\u001b[39mignore_shapely2_warnings():\n\u001b[1;32m--> 105\u001b[0m         \u001b[38;5;28;43msuper\u001b[39;49m\u001b[43m(\u001b[49m\u001b[43mGeoDataFrame\u001b[49m\u001b[43m,\u001b[49m\u001b[43m \u001b[49m\u001b[38;5;28;43mself\u001b[39;49m\u001b[43m)\u001b[49m\u001b[38;5;241;43m.\u001b[39;49m\u001b[38;5;21;43m__init__\u001b[39;49m\u001b[43m(\u001b[49m\u001b[38;5;241;43m*\u001b[39;49m\u001b[43margs\u001b[49m\u001b[43m,\u001b[49m\u001b[43m \u001b[49m\u001b[38;5;241;43m*\u001b[39;49m\u001b[38;5;241;43m*\u001b[39;49m\u001b[43mkwargs\u001b[49m\u001b[43m)\u001b[49m\n\u001b[0;32m    107\u001b[0m     \u001b[38;5;66;03m# need to set this before calling self['geometry'], because\u001b[39;00m\n\u001b[0;32m    108\u001b[0m     \u001b[38;5;66;03m# getitem accesses crs\u001b[39;00m\n\u001b[0;32m    109\u001b[0m     \u001b[38;5;28mself\u001b[39m\u001b[38;5;241m.\u001b[39m_crs \u001b[38;5;241m=\u001b[39m CRS\u001b[38;5;241m.\u001b[39mfrom_user_input(crs) \u001b[38;5;28;01mif\u001b[39;00m crs \u001b[38;5;28;01melse\u001b[39;00m \u001b[38;5;28;01mNone\u001b[39;00m\n",
      "File \u001b[1;32m~\\Anaconda3\\envs\\capstone\\lib\\site-packages\\pandas\\core\\frame.py:756\u001b[0m, in \u001b[0;36mDataFrame.__init__\u001b[1;34m(self, data, index, columns, dtype, copy)\u001b[0m\n\u001b[0;32m    753\u001b[0m \u001b[38;5;66;03m# For data is scalar\u001b[39;00m\n\u001b[0;32m    754\u001b[0m \u001b[38;5;28;01melse\u001b[39;00m:\n\u001b[0;32m    755\u001b[0m     \u001b[38;5;28;01mif\u001b[39;00m index \u001b[38;5;129;01mis\u001b[39;00m \u001b[38;5;28;01mNone\u001b[39;00m \u001b[38;5;129;01mor\u001b[39;00m columns \u001b[38;5;129;01mis\u001b[39;00m \u001b[38;5;28;01mNone\u001b[39;00m:\n\u001b[1;32m--> 756\u001b[0m         \u001b[38;5;28;01mraise\u001b[39;00m \u001b[38;5;167;01mValueError\u001b[39;00m(\u001b[38;5;124m\"\u001b[39m\u001b[38;5;124mDataFrame constructor not properly called!\u001b[39m\u001b[38;5;124m\"\u001b[39m)\n\u001b[0;32m    758\u001b[0m     \u001b[38;5;66;03m# Argument 1 to \"ensure_index\" has incompatible type \"Collection[Any]\";\u001b[39;00m\n\u001b[0;32m    759\u001b[0m     \u001b[38;5;66;03m# expected \"Union[Union[Union[ExtensionArray, ndarray],\u001b[39;00m\n\u001b[0;32m    760\u001b[0m     \u001b[38;5;66;03m# Index, Series], Sequence[Any]]\"\u001b[39;00m\n\u001b[0;32m    761\u001b[0m     index \u001b[38;5;241m=\u001b[39m ensure_index(index)  \u001b[38;5;66;03m# type: ignore[arg-type]\u001b[39;00m\n",
      "\u001b[1;31mValueError\u001b[0m: DataFrame constructor not properly called!"
     ]
    }
   ],
   "source": [
    "field = [(-114.31092,51.172859),(-114.31092,51.170787),(-114.304461,51.170787),(-114.304461,51.172859)]\n",
    "gpd.GeoDataFrame(LineString(field))"
   ]
  },
  {
   "cell_type": "code",
   "execution_count": 24,
   "id": "72e5bc25-c3f5-494f-946c-e143ab734a35",
   "metadata": {},
   "outputs": [],
   "source": [
    "import pandas as pd\n",
    "from shapely.geometry import Point\n",
    "from geopandas import GeoDataFrame\n",
    "\n",
    "df = pd.DataFrame({#'zip':[19152,19047],\n",
    "               'Lat':[40.058841,40.202162],\n",
    "               'Lon':[-75.042164,-74.924594]})\n",
    "\n",
    "geometry = [Point(xy) for xy in zip(df.Lon, df.Lat)]\n",
    "gdf = GeoDataFrame(df, geometry=geometry)\n",
    "\n",
    "#gdf.set_crs(epsg=4326, inplace=True)\n",
    "# ^ comment out to get a \"Cannot transform naive geometries\" error below\n",
    "\n",
    "# project to merkator\n",
    "#gdf.to_crs(epsg=3395)"
   ]
  },
  {
   "cell_type": "code",
   "execution_count": 22,
   "id": "4b4f489b-10ff-46b8-8d20-1ccda0b3f033",
   "metadata": {},
   "outputs": [
    {
     "data": {
      "text/html": [
       "<div>\n",
       "<style scoped>\n",
       "    .dataframe tbody tr th:only-of-type {\n",
       "        vertical-align: middle;\n",
       "    }\n",
       "\n",
       "    .dataframe tbody tr th {\n",
       "        vertical-align: top;\n",
       "    }\n",
       "\n",
       "    .dataframe thead th {\n",
       "        text-align: right;\n",
       "    }\n",
       "</style>\n",
       "<table border=\"1\" class=\"dataframe\">\n",
       "  <thead>\n",
       "    <tr style=\"text-align: right;\">\n",
       "      <th></th>\n",
       "      <th>zip</th>\n",
       "      <th>Lat</th>\n",
       "      <th>Lon</th>\n",
       "      <th>geometry</th>\n",
       "    </tr>\n",
       "  </thead>\n",
       "  <tbody>\n",
       "    <tr>\n",
       "      <th>0</th>\n",
       "      <td>19152</td>\n",
       "      <td>40.058841</td>\n",
       "      <td>-75.042164</td>\n",
       "      <td>POINT (-75.04216 40.05884)</td>\n",
       "    </tr>\n",
       "    <tr>\n",
       "      <th>1</th>\n",
       "      <td>19047</td>\n",
       "      <td>40.202162</td>\n",
       "      <td>-74.924594</td>\n",
       "      <td>POINT (-74.92459 40.20216)</td>\n",
       "    </tr>\n",
       "  </tbody>\n",
       "</table>\n",
       "</div>"
      ],
      "text/plain": [
       "     zip        Lat        Lon                    geometry\n",
       "0  19152  40.058841 -75.042164  POINT (-75.04216 40.05884)\n",
       "1  19047  40.202162 -74.924594  POINT (-74.92459 40.20216)"
      ]
     },
     "execution_count": 22,
     "metadata": {},
     "output_type": "execute_result"
    }
   ],
   "source": [
    "gdf"
   ]
  },
  {
   "cell_type": "code",
   "execution_count": 25,
   "id": "aebe7284-87ed-440b-80c1-30fd2b18b880",
   "metadata": {},
   "outputs": [
    {
     "data": {
      "text/html": [
       "<div>\n",
       "<style scoped>\n",
       "    .dataframe tbody tr th:only-of-type {\n",
       "        vertical-align: middle;\n",
       "    }\n",
       "\n",
       "    .dataframe tbody tr th {\n",
       "        vertical-align: top;\n",
       "    }\n",
       "\n",
       "    .dataframe thead th {\n",
       "        text-align: right;\n",
       "    }\n",
       "</style>\n",
       "<table border=\"1\" class=\"dataframe\">\n",
       "  <thead>\n",
       "    <tr style=\"text-align: right;\">\n",
       "      <th></th>\n",
       "      <th>zip</th>\n",
       "      <th>Lat</th>\n",
       "      <th>Lon</th>\n",
       "      <th>geometry</th>\n",
       "    </tr>\n",
       "  </thead>\n",
       "  <tbody>\n",
       "    <tr>\n",
       "      <th>0</th>\n",
       "      <td>19152</td>\n",
       "      <td>40.058841</td>\n",
       "      <td>-75.042164</td>\n",
       "      <td>POINT (-75.04216 40.05884)</td>\n",
       "    </tr>\n",
       "    <tr>\n",
       "      <th>1</th>\n",
       "      <td>19047</td>\n",
       "      <td>40.202162</td>\n",
       "      <td>-74.924594</td>\n",
       "      <td>POINT (-74.92459 40.20216)</td>\n",
       "    </tr>\n",
       "  </tbody>\n",
       "</table>\n",
       "</div>"
      ],
      "text/plain": [
       "     zip        Lat        Lon                    geometry\n",
       "0  19152  40.058841 -75.042164  POINT (-75.04216 40.05884)\n",
       "1  19047  40.202162 -74.924594  POINT (-74.92459 40.20216)"
      ]
     },
     "execution_count": 25,
     "metadata": {},
     "output_type": "execute_result"
    }
   ],
   "source": [
    "df"
   ]
  },
  {
   "cell_type": "code",
   "execution_count": null,
   "id": "6439f0b8-ac2d-44f7-8988-8a75b6deedd6",
   "metadata": {},
   "outputs": [],
   "source": []
  }
 ],
 "metadata": {
  "kernelspec": {
   "display_name": "Python 3 (ipykernel)",
   "language": "python",
   "name": "python3"
  },
  "language_info": {
   "codemirror_mode": {
    "name": "ipython",
    "version": 3
   },
   "file_extension": ".py",
   "mimetype": "text/x-python",
   "name": "python",
   "nbconvert_exporter": "python",
   "pygments_lexer": "ipython3",
   "version": "3.8.12"
  }
 },
 "nbformat": 4,
 "nbformat_minor": 5
}
