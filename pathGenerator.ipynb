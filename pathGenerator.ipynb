{
 "cells": [
  {
   "cell_type": "code",
   "execution_count": 4,
   "metadata": {},
   "outputs": [],
   "source": [
    "from classes import *\n",
    "\n",
    "class passGenerator(PathGenerator):\n",
    "    \"\"\"\n",
    "    Generates all start and end points of the paths, \n",
    "    then uses PathFollower to generate center points and direction vectors of each segment\n",
    "    \"\"\"\n",
    "    \n",
    "    def __init__(self, interval = 1, vertices = [Point(0,0), Point(0,10), Point(10,10), Point(10,0)], tractor_width = 1.5):\n",
    "        \"\"\"\n",
    "        Desc:\n",
    "        Input:\n",
    "            interval, interval distance in 'm' to simulate distance between new measurements\n",
    "        Output:\n",
    "        \"\"\"\n",
    "        PathGenerator.__init__(self, vertices, tractor_width)\n",
    "                    \n",
    "        self.interval = interval\n",
    "        \n",
    "        self.true_passes()\n",
    "        \n",
    "    def true_passes(self):\n",
    "        \"\"\"\n",
    "        Desc:\n",
    "            sets up the 'true' pass vectors\n",
    "        Input:\n",
    "        Output:\n",
    "        \"\"\"\n",
    "        #slightly off of a and b because of 1/2 of the width of a tractor used up\n",
    "        self.lower_start = Point(self.a.E()+self.vec_a.E()*(self.tractor_width/2),\n",
    "                           self.a.N()+self.vec_a.N()*(self.tractor_width/2))\n",
    "        \n",
    "        self.upper_start = Point(self.b.E()+self.vec_a.E()*(self.tractor_width/2),\n",
    "                           self.b.N()+self.vec_a.N()*(self.tractor_width/2))\n",
    "        \n",
    "        #these are where the tractor will end or start passes on the south side of the field\n",
    "        self.lower = PathFollower(self.lower_start, self.d, self.tractor_width)\n",
    "        \n",
    "        #these are where the tractor will end or start passes on the north side of the field\n",
    "        self.upper = PathFollower(self.upper_start, self.c, self.tractor_width)\n",
    "        \n",
    "        \n",
    "        \n",
    "        \n",
    "        \n",
    "        \n",
    "path = PathGenerator()\n",
    "passes = passGenerator(path)"
   ]
  },
  {
   "cell_type": "code",
   "execution_count": 7,
   "metadata": {},
   "outputs": [
    {
     "data": {
      "image/png": "[encoded data removed]",
      "text/plain": [
       "<Figure size 432x288 with 1 Axes>"
      ]
     },
     "metadata": {},
     "output_type": "display_data"
    }
   ],
   "source": [
    "passes.upper.plot()"
   ]
  },
  {
   "cell_type": "code",
   "execution_count": 3,
   "metadata": {},
   "outputs": [
    {
     "data": {
      "text/plain": [
       "[1.5, 0.0]"
      ]
     },
     "execution_count": 3,
     "metadata": {},
     "output_type": "execute_result"
    }
   ],
   "source": [
    "path.temp_a"
   ]
  },
  {
   "cell_type": "code",
   "execution_count": null,
   "metadata": {},
   "outputs": [],
   "source": []
  },
  {
   "cell_type": "code",
   "execution_count": null,
   "metadata": {},
   "outputs": [],
   "source": []
  }
 ],
 "metadata": {
  "kernelspec": {
   "display_name": "Python 3",
   "language": "python",
   "name": "python3"
  },
  "language_info": {
   "codemirror_mode": {
    "name": "ipython",
    "version": 3
   },
   "file_extension": ".py",
   "mimetype": "text/x-python",
   "name": "python",
   "nbconvert_exporter": "python",
   "pygments_lexer": "ipython3",
   "version": "3.8.5"
  }
 },
 "nbformat": 4,
 "nbformat_minor": 4
}
