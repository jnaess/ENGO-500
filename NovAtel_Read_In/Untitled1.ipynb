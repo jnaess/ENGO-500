{
 "cells": [
  {
   "cell_type": "code",
   "execution_count": 1,
   "id": "1a9c2cff-54d1-4ad1-be44-0e5936f8f635",
   "metadata": {},
   "outputs": [],
   "source": [
    "import pandas as pd\n",
    "import numpy as np\n",
    "\n",
    "from data import Data\n",
    "\n",
    "d = Data()\n",
    "        \n",
    "                "
   ]
  },
  {
   "cell_type": "code",
   "execution_count": 2,
   "id": "35fa07f1-12c6-4222-ae11-5fa955a6253c",
   "metadata": {},
   "outputs": [],
   "source": [
    "d.rtk.to_csv(\"rtk_final.csv\")"
   ]
  },
  {
   "cell_type": "code",
   "execution_count": 3,
   "id": "bea5c41d-3232-4452-9af3-e306213d0c9f",
   "metadata": {},
   "outputs": [],
   "source": [
    "d.ppp.to_csv(\"ppp_final.csv\")"
   ]
  },
  {
   "cell_type": "code",
   "execution_count": 4,
   "id": "4e8162f8-108a-4c88-b71a-c56d4ba619d3",
   "metadata": {},
   "outputs": [],
   "source": [
    "d.psr.to_csv(\"psr_final.csv\")"
   ]
  },
  {
   "cell_type": "code",
   "execution_count": 12,
   "id": "22b434bc-1263-4ada-a26b-2827977bb8be",
   "metadata": {},
   "outputs": [
    {
     "data": {
      "text/plain": [
       "'INSUFFICIENT_OBS,NONE,0.00000000000,0.00000000000,0.0000,0.0000,WGS84,0.0000,0.0000,0.0000,\"\",0.000,0.000,0,0,0,0,00,00,00,00*9fd2efb6\\n'"
      ]
     },
     "execution_count": 12,
     "metadata": {},
     "output_type": "execute_result"
    }
   ],
   "source": [
    "l.split(\";\")[1]"
   ]
  },
  {
   "cell_type": "code",
   "execution_count": 15,
   "id": "e86654ca-0e8e-480f-8b5d-b4dedfe58288",
   "metadata": {},
   "outputs": [
    {
     "data": {
      "text/plain": [
       "'#RTKPOSA'"
      ]
     },
     "execution_count": 15,
     "metadata": {},
     "output_type": "execute_result"
    }
   ],
   "source": [
    "l.split(\",\")[0]"
   ]
  },
  {
   "cell_type": "code",
   "execution_count": null,
   "id": "3da7bbe7-b217-4422-bc98-0521d5cf634f",
   "metadata": {},
   "outputs": [],
   "source": []
  }
 ],
 "metadata": {
  "kernelspec": {
   "display_name": "Python 3 (ipykernel)",
   "language": "python",
   "name": "python3"
  },
  "language_info": {
   "codemirror_mode": {
    "name": "ipython",
    "version": 3
   },
   "file_extension": ".py",
   "mimetype": "text/x-python",
   "name": "python",
   "nbconvert_exporter": "python",
   "pygments_lexer": "ipython3",
   "version": "3.8.12"
  }
 },
 "nbformat": 4,
 "nbformat_minor": 5
}
