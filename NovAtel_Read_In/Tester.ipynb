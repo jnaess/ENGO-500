{
 "cells": [
  {
   "cell_type": "code",
   "execution_count": 1,
   "metadata": {},
   "outputs": [
    {
     "name": "stdout",
     "output_type": "stream",
     "text": [
      "X: [ 0  1  3  6 10 15 21 28 36 45] Value: <class 'numpy.ndarray'>\n"
     ]
    },
    {
     "data": {
      "text/plain": [
       "array([ 0,  1,  3,  6, 10, 15, 21, 28, 36, 45])"
      ]
     },
     "execution_count": 1,
     "metadata": {},
     "output_type": "execute_result"
    }
   ],
   "source": [
    "import numpy as np\n",
    "from sys import argv\n",
    "\n",
    "#path = str(argv[1])\n",
    "x = np.fromfile(\"binaryFile.bin\", dtype=int)\n",
    "print(\"X: {} Value: {}\".format(x, type(x)))\n",
    "x"
   ]
  },
  {
   "cell_type": "code",
   "execution_count": 5,
   "metadata": {},
   "outputs": [
    {
     "data": {
      "text/plain": [
       "numpy.ndarray"
      ]
     },
     "execution_count": 5,
     "metadata": {},
     "output_type": "execute_result"
    }
   ],
   "source": [
    "x = np.fromfile(\"Rooftop_Position_Logs (1).GPS\")\n",
    "type(x)"
   ]
  },
  {
   "cell_type": "code",
   "execution_count": 7,
   "metadata": {},
   "outputs": [
    {
     "data": {
      "text/plain": [
       "array([ 1.49186888e-154,  1.09473763e-310,  1.54921331e-220, ...,\n",
       "        2.00000000e+000,  2.01865460e-310, -5.33876230e+176])"
      ]
     },
     "execution_count": 7,
     "metadata": {},
     "output_type": "execute_result"
    }
   ],
   "source": [
    "import pandas as pd\n",
    "x = np.fromfile(\"Rooftop_Position_Logs.BIN\")\n",
    "x"
   ]
  },
  {
   "cell_type": "code",
   "execution_count": 11,
   "metadata": {},
   "outputs": [
    {
     "name": "stdout",
     "output_type": "stream",
     "text": [
      "#RTKPOSA,COM1,0,19.5,UNKNOWN,0,2.000,124c0000,69d3,16725;INSUFFICIENT_OBS,NONE,0.00000000000,0.00000000000,0.0000,0.0000,WGS84,0.0000,0.0000,0.0000,\"\",0.000,0.000,0,0,0,0,00,00,00,00*9fd2efb6\n",
      "\n"
     ]
    }
   ],
   "source": [
    "l = []\n",
    "with open(\"Rooftop_Position_Logs.ASC\", 'r') as f:\n",
    "    count = 0\n",
    "    for line in f:\n",
    "        l = line\n",
    "        print(line)\n",
    "        break"
   ]
  },
  {
   "cell_type": "code",
   "execution_count": 21,
   "metadata": {},
   "outputs": [],
   "source": []
  },
  {
   "cell_type": "code",
   "execution_count": 63,
   "metadata": {},
   "outputs": [],
   "source": [
    "def clean_and_split(line):\n",
    "    \"\"\"returns only the valuable (not header stuff)\"\"\"\n",
    "    return [line.strip(\"\\n\").strip(\"#\").split(\";\")[1].split(\",\")]\n",
    "\n",
    "#pd.read_csv(\"Rooftop_Position_Logs.ASC\")\n",
    "header = [\"Log_name\", \"Port\", \"Sequence#\", \"% Idle Time\", \"Time_Status\", \"Week\", \"Seconds\", \"Receiver_Status\", \"Null\", \"Receiver_S/W_Version\"]\n",
    "rtk = [\"sol_sattus\", \"pos_type\", \"lat\", \"lon\", \"hgt\", \"undulation\", \n",
    "       \"datum id#\", \"lat σ\", \"lon σ\",  \"hgt σ\", \"stn id\", \"diff_age\", \n",
    "       \"sol_age\", \"#SVs\", \"#solnSVs\", \"#ggL1\", \"#solnMultiSVs\", \"Null\", \n",
    "       \"ext sol stat\", \"Galileo and BeiDou sig mask\", \"GPS and GLONASS sig mask\"]#, \"xxxx\", \"[CR][LF]\"]\n",
    "ppp = [\"sol_sattus\", \"pos_type\", \"lat\", \"lon\", \"hgt\", \"undulation\", \"datum_id#\", \n",
    "       \"lat_sigma\", \"lon_sigma\",  \"hgt_sigma\", \"stn_id\", \"diff_age\", \"sol_age\", \"#SVs\", \n",
    "       \"#solnSVs\", \"#ggL1\", \"#solnMultiSVs\", \"Null\", \"ext sol stat\", \"Null\", \"GPS_and_GLONASS_sig_ mask\"]#, \"xxxx\", \"[CR][LF]\"]\n",
    "psr = [\"sol_sattus\", \"pos_type\", \"lat\", \"lon\", \"hgt\", \"undulation\", \"datum id#\", \"lat_sigma\", \n",
    "       \"lon_sigma\",  \"hgt_sigma\", \"stn_id\", \"diff_age\", \"sol_age\", \"#SVs\", \"#solnSVs\", \"Null\", \n",
    "       \"Null\", \"Null\", \"ext_sol_stat\", \"Galileo_and_BeiDou_sig_mask\", \"GPS_and_GLONASS_sig_mask\"]#, \"xxxx\", \"[CR][LF]\"]"
   ]
  },
  {
   "cell_type": "code",
   "execution_count": null,
   "metadata": {},
   "outputs": [],
   "source": []
  },
  {
   "cell_type": "code",
   "execution_count": 77,
   "metadata": {},
   "outputs": [],
   "source": [
    "rtk_data = []\n",
    "ppp_data = []\n",
    "psr_data = []\n",
    "\n",
    "with open(\"Rooftop_Position_Logs.ASC\", 'r') as f:\n",
    "    count = 0\n",
    "    for line in f:\n",
    "        data = clean_and_split(line)\n",
    "        \n",
    "        if count%3 == 0:\n",
    "            #then rtk\n",
    "            rtk_data.append(data)\n",
    "        elif count%3 == 1:\n",
    "            #then ppp\n",
    "            ppp_data.append(data)\n",
    "        else:\n",
    "            #then psr\n",
    "            psr_data.append(data)\n",
    "            \n",
    "        count = count + 1\n"
   ]
  },
  {
   "cell_type": "code",
   "execution_count": 82,
   "metadata": {},
   "outputs": [
    {
     "data": {
      "text/html": [
       "<div>\n",
       "<style scoped>\n",
       "    .dataframe tbody tr th:only-of-type {\n",
       "        vertical-align: middle;\n",
       "    }\n",
       "\n",
       "    .dataframe tbody tr th {\n",
       "        vertical-align: top;\n",
       "    }\n",
       "\n",
       "    .dataframe thead th {\n",
       "        text-align: right;\n",
       "    }\n",
       "</style>\n",
       "<table border=\"1\" class=\"dataframe\">\n",
       "  <thead>\n",
       "    <tr style=\"text-align: right;\">\n",
       "      <th></th>\n",
       "      <th>sol_sattus</th>\n",
       "      <th>pos_type</th>\n",
       "      <th>lat</th>\n",
       "      <th>lon</th>\n",
       "      <th>hgt</th>\n",
       "      <th>undulation</th>\n",
       "      <th>datum id#</th>\n",
       "      <th>lat σ</th>\n",
       "      <th>lon σ</th>\n",
       "      <th>hgt σ</th>\n",
       "      <th>...</th>\n",
       "      <th>diff_age</th>\n",
       "      <th>sol_age</th>\n",
       "      <th>#SVs</th>\n",
       "      <th>#solnSVs</th>\n",
       "      <th>#ggL1</th>\n",
       "      <th>#solnMultiSVs</th>\n",
       "      <th>Null</th>\n",
       "      <th>ext sol stat</th>\n",
       "      <th>Galileo and BeiDou sig mask</th>\n",
       "      <th>GPS and GLONASS sig mask</th>\n",
       "    </tr>\n",
       "  </thead>\n",
       "  <tbody>\n",
       "    <tr>\n",
       "      <th>0</th>\n",
       "      <td>SOL_COMPUTED</td>\n",
       "      <td>PSRDIFF</td>\n",
       "      <td>51.15043751292</td>\n",
       "      <td>-114.03067768438</td>\n",
       "      <td>1097.1240</td>\n",
       "      <td>-17.0000</td>\n",
       "      <td>WGS84</td>\n",
       "      <td>0.3335</td>\n",
       "      <td>0.2542</td>\n",
       "      <td>0.5266</td>\n",
       "      <td>...</td>\n",
       "      <td>2.000</td>\n",
       "      <td>0.000</td>\n",
       "      <td>38</td>\n",
       "      <td>33</td>\n",
       "      <td>0</td>\n",
       "      <td>0</td>\n",
       "      <td>00</td>\n",
       "      <td>08</td>\n",
       "      <td>11</td>\n",
       "      <td>11*4b7e8d04</td>\n",
       "    </tr>\n",
       "  </tbody>\n",
       "</table>\n",
       "<p>1 rows × 21 columns</p>\n",
       "</div>"
      ],
      "text/plain": [
       "     sol_sattus pos_type             lat               lon        hgt  \\\n",
       "0  SOL_COMPUTED  PSRDIFF  51.15043751292  -114.03067768438  1097.1240   \n",
       "\n",
       "  undulation datum id#   lat σ   lon σ   hgt σ  ... diff_age sol_age #SVs  \\\n",
       "0   -17.0000     WGS84  0.3335  0.2542  0.5266  ...    2.000   0.000   38   \n",
       "\n",
       "  #solnSVs #ggL1 #solnMultiSVs Null ext sol stat Galileo and BeiDou sig mask  \\\n",
       "0       33     0             0   00           08                          11   \n",
       "\n",
       "  GPS and GLONASS sig mask  \n",
       "0              11*4b7e8d04  \n",
       "\n",
       "[1 rows x 21 columns]"
      ]
     },
     "execution_count": 82,
     "metadata": {},
     "output_type": "execute_result"
    }
   ],
   "source": [
    "#df_rtk = pd.DataFrame(rtk_data, columns=rtk)\n",
    "#df_ppp = pd.DataFrame(columns=ppp)\n",
    "#df_psr = pd.DataFrame(columns=psr)\n",
    "\n",
    "pd.DataFrame(rtk_data[100], columns=rtk)"
   ]
  },
  {
   "cell_type": "code",
   "execution_count": 3,
   "metadata": {},
   "outputs": [],
   "source": [
    "from pyproj import Proj, transform\n",
    "\n",
    "#3TM -- ESPG:3780\n",
    "#UTM 11 N -- ESPG:32611\n",
    "inProj = Proj(init=\"epsg:3780\")\n",
    "outProj = Proj(init=\"epsg:32611\")\n",
    "lat,lon = (5660608.457, -9393.721)\n",
    "x,y = transform(inProj,outProj,lon,lat)"
   ]
  },
  {
   "cell_type": "code",
   "execution_count": 4,
   "metadata": {},
   "outputs": [
    {
     "name": "stdout",
     "output_type": "stream",
     "text": [
      "6638351.729359833\n",
      "-9969.393537191228\n"
     ]
    }
   ],
   "source": [
    "print(x)\n",
    "print(y)"
   ]
  },
  {
   "cell_type": "code",
   "execution_count": null,
   "metadata": {},
   "outputs": [],
   "source": []
  }
 ],
 "metadata": {
  "kernelspec": {
   "display_name": "Python 3",
   "language": "python",
   "name": "python3"
  },
  "language_info": {
   "codemirror_mode": {
    "name": "ipython",
    "version": 3
   },
   "file_extension": ".py",
   "mimetype": "text/x-python",
   "name": "python",
   "nbconvert_exporter": "python",
   "pygments_lexer": "ipython3",
   "version": "3.8.5"
  }
 },
 "nbformat": 4,
 "nbformat_minor": 4
}
