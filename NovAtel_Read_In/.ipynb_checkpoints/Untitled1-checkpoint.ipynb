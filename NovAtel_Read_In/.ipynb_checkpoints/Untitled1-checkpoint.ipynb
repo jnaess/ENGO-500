{
 "cells": [
  {
   "cell_type": "code",
   "execution_count": 2,
   "id": "1a9c2cff-54d1-4ad1-be44-0e5936f8f635",
   "metadata": {},
   "outputs": [
    {
     "ename": "IndentationError",
     "evalue": "unindent does not match any outer indentation level (<tokenize>, line 6)",
     "output_type": "error",
     "traceback": [
      "\u001b[1;36m  File \u001b[1;32m<tokenize>:6\u001b[1;36m\u001b[0m\n\u001b[1;33m    return line.strip(\"\\n\").strip(\"#\").split(\";\")[1].split(\",\")\u001b[0m\n\u001b[1;37m    ^\u001b[0m\n\u001b[1;31mIndentationError\u001b[0m\u001b[1;31m:\u001b[0m unindent does not match any outer indentation level\n"
     ]
    }
   ],
   "source": [
    "import pandas as pd\n",
    "import numpy as np\n",
    "\n",
    "def clean_and_split(line):\n",
    "        \"\"\"returns only the valuable (not header stuff)\"\"\"\n",
    "    return line.strip(\"\\n\").strip(\"#\").split(\";\")[1].split(\",\")\n",
    "    \n",
    "file_name = \"Rooftop_Position_Logs.ASC\"\n",
    "\n",
    "with open(file_name, 'r') as f:\n",
    "    count = 0\n",
    "    for line in f:\n",
    "        data = clean_and_split(line)\n",
    "        print(data)\n",
    "        \n",
    "        break\n",
    "        if count%3 == 0:\n",
    "                        #then rtk\n",
    "            #self.rtk_data.append(data)\n",
    "        elif count%3 == 1:\n",
    "                        #then ppp\n",
    "            #self.ppp_data.append(data)\n",
    "        else:\n",
    "                        #then psr\n",
    "            #self.psr_data.append(data)\n",
    "\n",
    "        count = count + 1\n",
    "                "
   ]
  },
  {
   "cell_type": "code",
   "execution_count": null,
   "id": "35fa07f1-12c6-4222-ae11-5fa955a6253c",
   "metadata": {},
   "outputs": [],
   "source": []
  }
 ],
 "metadata": {
  "kernelspec": {
   "display_name": "Python 3 (ipykernel)",
   "language": "python",
   "name": "python3"
  },
  "language_info": {
   "codemirror_mode": {
    "name": "ipython",
    "version": 3
   },
   "file_extension": ".py",
   "mimetype": "text/x-python",
   "name": "python",
   "nbconvert_exporter": "python",
   "pygments_lexer": "ipython3",
   "version": "3.8.12"
  }
 },
 "nbformat": 4,
 "nbformat_minor": 5
}
